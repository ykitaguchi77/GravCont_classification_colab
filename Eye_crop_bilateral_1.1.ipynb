{
  "nbformat": 4,
  "nbformat_minor": 0,
  "metadata": {
    "colab": {
      "name": "Untitled37.ipynb",
      "provenance": [],
      "machine_shape": "hm",
      "include_colab_link": true
    },
    "kernelspec": {
      "name": "python3",
      "display_name": "Python 3"
    },
    "gpuClass": "standard"
  },
  "cells": [
    {
      "cell_type": "markdown",
      "metadata": {
        "id": "view-in-github",
        "colab_type": "text"
      },
      "source": [
        "<a href=\"https://colab.research.google.com/github/ykitaguchi77/GravCont_classification_colab/blob/master/Eye_crop_bilateral_1.1.ipynb\" target=\"_parent\"><img src=\"https://colab.research.google.com/assets/colab-badge.svg\" alt=\"Open In Colab\"/></a>"
      ]
    },
    {
      "cell_type": "markdown",
      "metadata": {
        "id": "C2mKFMmwfTOi"
      },
      "source": [
        "#顔の画像から目を検出して切り抜くスクリプト\n",
        "・Haarcascade_eyeを使用<br>\n",
        "・目が検出できないものはskipする<br>\n",
        "・横幅を2倍、縦幅を上に1倍追加/下に0.5倍追加して画像を切り取る（目の全幅、眉毛が含まれるように）\n",
        "\n",
        "・切り取った画像を250px*250pxにresizeする<br>\n",
        "・対応表をCSV形式で出力（連番、左右、元フォルダ、元画像名）"
      ]
    },
    {
      "cell_type": "code",
      "metadata": {
        "id": "I5xvbecME5IS"
      },
      "source": [
        "import numpy as np\n",
        "import matplotlib.pyplot as plt\n",
        "import time\n",
        "import os\n",
        "import copy\n",
        "import pandas as pd\n",
        "import csv\n",
        "from random import randint\n",
        "from time import sleep\n",
        "import numpy as np\n",
        "import sys\n",
        "\n",
        "import glob\n",
        "import random\n",
        "from PIL import Image\n",
        "%matplotlib inline\n",
        "\n",
        "#サポートパッチのインポート\n",
        "from google.colab.patches import cv2_imshow\n",
        "import cv2\n",
        "\n",
        "plt.ion()   # interactive mode"
      ],
      "execution_count": 1,
      "outputs": []
    },
    {
      "cell_type": "markdown",
      "metadata": {
        "id": "v0ZI4pHmFDXZ"
      },
      "source": [
        "#Google colabをマウント"
      ]
    },
    {
      "cell_type": "code",
      "metadata": {
        "id": "zkrhEditFGkP",
        "colab": {
          "base_uri": "https://localhost:8080/"
        },
        "outputId": "138e2df1-89b3-4572-ad16-936e3f7ea77f"
      },
      "source": [
        "'''\n",
        "・dlibを用いて目を切り抜く\n",
        "・横幅を2倍、縦幅を上に1倍追加/下に0.5倍追加して画像を切り取る（目の全幅、眉毛が含まれるように）\n",
        "'''\n",
        "\n",
        "from google.colab import drive\n",
        "drive.mount('/content/drive')"
      ],
      "execution_count": 2,
      "outputs": [
        {
          "output_type": "stream",
          "name": "stdout",
          "text": [
            "Mounted at /content/drive\n"
          ]
        }
      ]
    },
    {
      "cell_type": "code",
      "metadata": {
        "id": "mt7fAuwXxNka",
        "colab": {
          "base_uri": "https://localhost:8080/"
        },
        "outputId": "0a84a5dd-cc1c-4cb6-e6b1-907c8b7d10f8"
      },
      "source": [
        "#残り時間確認\n",
        "!cat /proc/uptime | awk '{printf(\"残り時間 : %.2f\", 12-$1/60/60)}'\n"
      ],
      "execution_count": null,
      "outputs": [
        {
          "output_type": "stream",
          "name": "stdout",
          "text": [
            "残り時間 : 11.92"
          ]
        }
      ]
    },
    {
      "cell_type": "code",
      "metadata": {
        "id": "oSA2Rm9MFXoZ"
      },
      "source": [
        "#元画像\n",
        "in_path = '/content/drive/MyDrive/Deep_learning/Face_Images/IMG_3110.JPG'\n",
        "\n",
        "#保存先フォルダ\n",
        "out_path = '/content/drive/My Drive/Deep_learning/eyelid_images/IMG_3110_eye.JPG'\n"
      ],
      "execution_count": 3,
      "outputs": []
    },
    {
      "cell_type": "markdown",
      "metadata": {
        "id": "v0shkziUPn1c"
      },
      "source": [
        "#Haarcascadeを指定"
      ]
    },
    {
      "cell_type": "code",
      "metadata": {
        "id": "qfu_RX-kIlmx"
      },
      "source": [
        "# カスケードファイルのパス\n",
        "eye_cascade_path = '/content/drive/My Drive/Deep_learning/haarcascade_eye.xml'\n",
        "\n",
        "# カスケード分類器の特徴量取得\n",
        "eye_cascade = cv2.CascadeClassifier(eye_cascade_path)"
      ],
      "execution_count": 4,
      "outputs": []
    },
    {
      "cell_type": "code",
      "source": [
        "#アスペクト比を維持したまま横を400pixelに縮小する\n",
        "def scale_to_width(img, width):\n",
        "    scale = width / img.shape[1]\n",
        "    return cv2.resize(img, dsize=None, fx=scale, fy=scale)\n",
        "\n",
        "#図を表示する\n",
        "def show_image(img):\n",
        "    #img = cv2.imread(out_path)\n",
        "    dst = scale_to_width(img, 400)\n",
        "    cv2_imshow(dst)\n",
        "\n",
        "def my_round(val, digit=0):\n",
        "    p = 10 ** digit\n",
        "    return int((val * p * 2 + 1) // 2 / p)"
      ],
      "metadata": {
        "id": "SMbQsnPTHf-K"
      },
      "execution_count": 5,
      "outputs": []
    },
    {
      "cell_type": "code",
      "source": [
        "img = cv2.imread(in_path) \n",
        "img2 = img.copy()\n",
        "\n",
        "# 画像グレースケール化\n",
        "grayscale_img = cv2.cvtColor(img, cv2.COLOR_RGB2GRAY)\n",
        "\n",
        "#300pix以上のもので目に見えるものを抽出\n",
        "eye_list = eye_cascade.detectMultiScale(grayscale_img, minSize=(300, 300))\n",
        "print('image path = ',in_path)\n",
        "\n",
        "# 眼検出判定\n",
        "if len(eye_list) >= 1:\n",
        "    print('目が' + str(len(eye_list)) +'個検出されました')\n",
        "    pass\n",
        "else:\n",
        "    print(\"no eye detected\")\n",
        "    sys.exit()\n",
        "\n",
        "\n",
        "print(eye_list)\n",
        "\n",
        "#画像の切り抜きと保存（連番にする）\n",
        "\n",
        "for (ex, ey, ew, eh) in eye_list:\n",
        "    print(\"[ex,ey] = %d,%d [ew,eh] = %d,%d\" %(ex, ey, ew, eh))\n",
        "    \n",
        "    try:\n",
        "      cv2.rectangle(img2, (ex, ey), (ex + ew, ey + eh), (0, 255, 0), 2)\n",
        "\n",
        "      #切り抜き範囲が元画像をはみ出る場合は黒画像で埋める\n",
        "      top = max(0, ey-int(eh/3))\n",
        "      bottom = min(grayscale_img.shape[0], int(ey + eh*4/3))\n",
        "      left = max(0,int(ex-int(ew/3)))\n",
        "      right = min(grayscale_img.shape[1], int(ex + ew*4/3))\n",
        "\n",
        "      print(f\"top:{top}, bottom:{bottom}, left:{left}, right:{right}\")\n",
        "\n",
        "      img_cropped = img[top: bottom,left:right]\n",
        "      height, width = img_cropped.shape[:2]\n",
        "\n",
        "\n",
        "      print(f\"height:{height}, width:{width}\")\n",
        "      if width==height:\n",
        "          img_resized =img_cropped\n",
        "      elif width>height:\n",
        "          img_background = np.zeros((width,width,3), dtype = np.uint8)\n",
        "          img_background[0:width, my_round((width-height)/2) :int(((width+height)/2)+height)]=img_cropped\n",
        "      elif width<height:\n",
        "          img_background = np.zeros((height,height,3), dtype = np.uint8)\n",
        "          img_background[0:height, my_round((height-width)/2) :int(((height-width)/2)+width)]=img_cropped\n",
        "      \n",
        "      img_resized = cv2.resize(img_background,(1000,1000)) #1辺250pixにresize \n",
        "\n",
        "      show_image(img_resized)\n",
        "\n",
        "\n",
        "\n",
        "    except:\n",
        "      print('crop error')\n",
        "\n",
        "    if ex <= grayscale_img.shape[1]/2:\n",
        "        side = 0 #600ピクセル目より左にあるのは右眼\n",
        "    else:\n",
        "        side = 1 #600ピクセル目より右にあるのは左眼\n",
        "\n",
        "\n"
      ],
      "metadata": {
        "colab": {
          "base_uri": "https://localhost:8080/",
          "height": 999
        },
        "id": "aR56JrxipDoK",
        "outputId": "18816649-9de8-4d16-ea36-1bb8ab2a7d08"
      },
      "execution_count": 51,
      "outputs": [
        {
          "output_type": "stream",
          "name": "stdout",
          "text": [
            "image path =  /content/drive/MyDrive/Deep_learning/Face_Images/IMG_3110.JPG\n",
            "目が2個検出されました\n",
            "[[1247 1189  436  436]\n",
            " [ 596 1278  424  424]]\n",
            "[ex,ey] = 1247,1189 [ew,eh] = 436,436\n",
            "top:1044, bottom:1770, left:1102, right:1828\n",
            "height:726, width:726\n"
          ]
        },
        {
          "output_type": "display_data",
          "data": {
            "text/plain": [
              "<PIL.Image.Image image mode=RGB size=400x400 at 0x7F7C0F64D750>"
            ],
            "image/png": "[encoded data removed]"
          },
          "metadata": {}
        },
        {
          "output_type": "stream",
          "name": "stdout",
          "text": [
            "[ex,ey] = 596,1278 [ew,eh] = 424,424\n",
            "top:1137, bottom:1843, left:455, right:1161\n",
            "height:706, width:706\n"
          ]
        },
        {
          "output_type": "display_data",
          "data": {
            "text/plain": [
              "<PIL.Image.Image image mode=RGB size=400x400 at 0x7F7C0F64D750>"
            ],
            "image/png": "[encoded data removed]"
          },
          "metadata": {}
        }
      ]
    },
    {
      "cell_type": "code",
      "source": [
        "(height-width)/2"
      ],
      "metadata": {
        "id": "m89-v3ccbyxG",
        "outputId": "d0aa9706-17bc-4c4f-8613-d90a94f7185a",
        "colab": {
          "base_uri": "https://localhost:8080/"
        }
      },
      "execution_count": 47,
      "outputs": [
        {
          "output_type": "execute_result",
          "data": {
            "text/plain": [
              "-85.0"
            ]
          },
          "metadata": {},
          "execution_count": 47
        }
      ]
    },
    {
      "cell_type": "code",
      "source": [
        "(height-width)/2+width"
      ],
      "metadata": {
        "id": "ORIXX0oRPnHr",
        "outputId": "0240e635-0ece-4048-d05c-f499d5f69047",
        "colab": {
          "base_uri": "https://localhost:8080/"
        }
      },
      "execution_count": 48,
      "outputs": [
        {
          "output_type": "execute_result",
          "data": {
            "text/plain": [
              "763.0"
            ]
          },
          "metadata": {},
          "execution_count": 48
        }
      ]
    },
    {
      "cell_type": "code",
      "source": [
        "(height+width)/2"
      ],
      "metadata": {
        "id": "IwVjcpFacDxY",
        "outputId": "6b10198d-13ae-419f-c23b-01bd333a775a",
        "colab": {
          "base_uri": "https://localhost:8080/"
        }
      },
      "execution_count": 41,
      "outputs": [
        {
          "output_type": "execute_result",
          "data": {
            "text/plain": [
              "954.0"
            ]
          },
          "metadata": {},
          "execution_count": 41
        }
      ]
    },
    {
      "cell_type": "code",
      "source": [
        ""
      ],
      "metadata": {
        "id": "qGT23AC0cF5v"
      },
      "execution_count": null,
      "outputs": []
    }
  ]
}