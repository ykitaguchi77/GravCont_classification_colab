{
  "nbformat": 4,
  "nbformat_minor": 0,
  "metadata": {
    "colab": {
      "name": "Untitled37.ipynb",
      "provenance": [],
      "machine_shape": "hm",
      "include_colab_link": true
    },
    "kernelspec": {
      "name": "python3",
      "display_name": "Python 3"
    },
    "gpuClass": "standard"
  },
  "cells": [
    {
      "cell_type": "markdown",
      "metadata": {
        "id": "view-in-github",
        "colab_type": "text"
      },
      "source": [
        "<a href=\"https://colab.research.google.com/github/ykitaguchi77/GravCont_classification_colab/blob/master/Extend_dataset_YOLOv5.ipynb\" target=\"_parent\"><img src=\"https://colab.research.google.com/assets/colab-badge.svg\" alt=\"Open In Colab\"/></a>"
      ]
    },
    {
      "cell_type": "markdown",
      "source": [
        "#**GO extend dataset YOLOv5**"
      ],
      "metadata": {
        "id": "LXR--60tO5mS"
      }
    },
    {
      "cell_type": "markdown",
      "metadata": {
        "id": "C2mKFMmwfTOi"
      },
      "source": [
        "#顔の画像から目を検出して切り抜くスクリプト\n",
        "・Haarcascade_eyeを使用<br>\n",
        "・目が検出できないものはskipする<br>\n",
        "・横幅を1/4倍、縦幅を上下に1/4倍追加して画像を切り取る（目の全幅、眉毛が含まれるように）\n",
        "\n",
        "・切り取った画像を横幅640pxにresizeする<br>\n",
        "・フォルダ内の画像を一括変換して別フォルダに保存"
      ]
    },
    {
      "cell_type": "code",
      "metadata": {
        "id": "I5xvbecME5IS"
      },
      "source": [
        "import numpy as np\n",
        "import matplotlib.pyplot as plt\n",
        "import time\n",
        "import os\n",
        "import shutil\n",
        "import copy\n",
        "import pandas as pd\n",
        "import csv\n",
        "from random import randint\n",
        "from time import sleep\n",
        "import numpy as np\n",
        "import sys\n",
        "\n",
        "\n",
        "import glob\n",
        "import random\n",
        "from PIL import Image\n",
        "%matplotlib inline\n",
        "\n",
        "#サポートパッチのインポート\n",
        "from google.colab.patches import cv2_imshow\n",
        "import cv2\n",
        "\n",
        "plt.ion()   # interactive mode"
      ],
      "execution_count": 16,
      "outputs": []
    },
    {
      "cell_type": "markdown",
      "metadata": {
        "id": "v0ZI4pHmFDXZ"
      },
      "source": [
        "#Google colabをマウント"
      ]
    },
    {
      "cell_type": "code",
      "metadata": {
        "id": "zkrhEditFGkP",
        "colab": {
          "base_uri": "https://localhost:8080/"
        },
        "outputId": "75538d9e-094a-4f95-b6fd-8449ed45b1f3"
      },
      "source": [
        "'''\n",
        "・dlibを用いて目を切り抜く\n",
        "・横幅を2倍、縦幅を上に1倍追加/下に0.5倍追加した両眼の画像が含まれるように切り取る（目の全幅、眉毛が含まれるように）\n",
        "'''\n",
        "\n",
        "from google.colab import drive\n",
        "drive.mount('/content/drive')"
      ],
      "execution_count": 17,
      "outputs": [
        {
          "output_type": "stream",
          "name": "stdout",
          "text": [
            "Drive already mounted at /content/drive; to attempt to forcibly remount, call drive.mount(\"/content/drive\", force_remount=True).\n"
          ]
        }
      ]
    },
    {
      "cell_type": "code",
      "metadata": {
        "id": "mt7fAuwXxNka",
        "colab": {
          "base_uri": "https://localhost:8080/"
        },
        "outputId": "f17b2da3-0c6f-4afd-ae98-964f1eb94a1f"
      },
      "source": [
        "#残り時間確認\n",
        "!cat /proc/uptime | awk '{printf(\"残り時間 : %.2f\", 12-$1/60/60)}'\n"
      ],
      "execution_count": 18,
      "outputs": [
        {
          "output_type": "stream",
          "name": "stdout",
          "text": [
            "残り時間 : 11.23"
          ]
        }
      ]
    },
    {
      "cell_type": "code",
      "metadata": {
        "id": "oSA2Rm9MFXoZ",
        "colab": {
          "base_uri": "https://localhost:8080/"
        },
        "outputId": "48b0f216-cba3-4cbd-829e-9cf26296eb53"
      },
      "source": [
        "#テスト画像\n",
        "test_path = '/content/drive/MyDrive/Deep_learning/Face_Images/IMG_3110.JPG'\n",
        "\n",
        "# GO_extended_datasetを colab上のフォルダに展開\n",
        "zip_path = '/content/drive/MyDrive/Deep_learning/GO_extended_dataset/GO_extended_dataset.zip'\n",
        "!unzip $zip_path -d \"/content\"\n",
        "in_path_list  = ['/content/GO_extended_dataset/Control_photo_1886mai', '/content/GO_extended_dataset/treatable']\n",
        "#保存先フォルダ\n",
        "out_path_list = ['/content/GO_extended_dataset/cont_for_yolo', '/content/GO_extended_dataset/grav_for_yolo']\n"
      ],
      "execution_count": 19,
      "outputs": [
        {
          "output_type": "stream",
          "name": "stdout",
          "text": [
            "Archive:  /content/drive/MyDrive/Deep_learning/GO_extended_dataset/GO_extended_dataset.zip\n",
            "replace /content/GO_extended_dataset/Control_photo_1886mai/1000.jpg? [y]es, [n]o, [A]ll, [N]one, [r]ename: N\n",
            "N\n"
          ]
        }
      ]
    },
    {
      "cell_type": "markdown",
      "metadata": {
        "id": "v0shkziUPn1c"
      },
      "source": [
        "#Haarcascadeを指定"
      ]
    },
    {
      "cell_type": "code",
      "metadata": {
        "id": "qfu_RX-kIlmx"
      },
      "source": [
        "# カスケードファイルのパス\n",
        "eye_cascade_path = '/content/drive/My Drive/Deep_learning/haarcascade_eye.xml'\n",
        "# righteye_cascade_path = '/content/drive/My Drive/Deep_learning/haarcascade_righteye_2splits.xml'\n",
        "# lefteye_cascade_path = '/content/drive/My Drive/Deep_learning/haarcascade_lefteye_2splits.xml'\n",
        "\n",
        "\n",
        "# カスケード分類器の特徴量取得\n",
        "eye_cascade = cv2.CascadeClassifier(eye_cascade_path)\n",
        "# righteye_cascade = cv2.CascadeClassifier(eye_cascade_path)\n",
        "# lefteye_cascade = cv2.CascadeClassifier(eye_cascade_path)"
      ],
      "execution_count": 5,
      "outputs": []
    },
    {
      "cell_type": "code",
      "source": [
        "#アスペクト比を維持したまま横を400pixelに縮小する\n",
        "def scale_to_width(img, width):\n",
        "    scale = width / img.shape[1]\n",
        "    return cv2.resize(img, dsize=None, fx=scale, fy=scale)\n",
        "\n",
        "#図を表示する\n",
        "def show_image(img):\n",
        "    #img = cv2.imread(out_path)\n",
        "    dst = scale_to_width(img, 200)\n",
        "    cv2_imshow(dst)\n",
        "\n",
        "# def show_image_pillow(img):\n",
        "#     src = cv2.cvtColor(img_resized_list[0], cv2.COLOR_BGR2RGB)\n",
        "#     plt.imshow(src)\n",
        "\n",
        "def my_round(val, digit=0):\n",
        "    p = 10 ** digit\n",
        "    return int((val * p * 2 + 1) // 2 / p)\n",
        "\n",
        "def scale_to_width(img, width):\n",
        "    \"\"\"幅が指定した値になるように、アスペクト比を固定して、リサイズする。\n",
        "    \"\"\"\n",
        "    h, w = img.shape[:2]\n",
        "    height = round(h * (width / w))\n",
        "    dst = cv2.resize(img, dsize=(width, height))\n",
        "\n",
        "    return dst"
      ],
      "metadata": {
        "id": "SMbQsnPTHf-K"
      },
      "execution_count": 6,
      "outputs": []
    },
    {
      "cell_type": "code",
      "source": [
        "def crop_bilateral(in_path, class_num, size, showImage=True):\n",
        "    img_resized_list,side_list = [],[]\n",
        "\n",
        "    img = cv2.imread(in_path) \n",
        "    img2 = img.copy()\n",
        "\n",
        "    if showImage:\n",
        "        show_image(img)\n",
        "\n",
        "    # 画像グレースケール化\n",
        "    grayscale_img = cv2.cvtColor(img, cv2.COLOR_RGB2GRAY)\n",
        "\n",
        "    #300pix以上のもので目に見えるものを抽出\n",
        "    eye_list = eye_cascade.detectMultiScale(grayscale_img, minSize=(300, 300))\n",
        "    print(\"\")\n",
        "    print('image path = ',in_path)\n",
        "\n",
        "    # 眼検出判定\n",
        "    if len(eye_list) >= 1:\n",
        "        print('目が' + str(len(eye_list)) +'個検出されました')\n",
        "        pass\n",
        "    else:\n",
        "        print(\"no eye detected\")\n",
        "        pass\n",
        "\n",
        "    print(f\"eye_list: {eye_list}\")\n",
        "\n",
        "    #画像の切り抜きと保存（連番にする）\n",
        "    if len(eye_list)== 2: \n",
        "\n",
        "        \n",
        "        for (ex, ey, ew, eh) in eye_list:\n",
        "            print(\"[ex,ey] = %d,%d [ew,eh] = %d,%d\" %(ex, ey, ew, eh))\n",
        "            \n",
        "            try:\n",
        "                cv2.rectangle(img2, (ex, ey), (ex + ew, ey + eh), (0, 255, 0), 2)\n",
        "\n",
        "                #切り抜き範囲が元画像をはみ出る場合は黒画像で埋める\n",
        "                top = max(0, ey-int(eh/4))\n",
        "                bottom = min(grayscale_img.shape[0], int(ey + eh*5/4))\n",
        "                left = max(0,int(ex-int(ew/4)))\n",
        "                right = min(grayscale_img.shape[1], int(ex + ew*5/4))\n",
        "\n",
        "                #print(f\"top:{top}, bottom:{bottom}, left:{left}, right:{right}\")\n",
        "\n",
        "                img_cropped = img[top: bottom,left:right]\n",
        "                height, width = img_cropped.shape[:2]\n",
        "\n",
        "                #クロップした画像を表示\n",
        "                if showImage:\n",
        "                    show_image(img_cropped)\n",
        "            except: \n",
        "                pass\n",
        "\n",
        "       \n",
        "        ex = min(eye_list[0][0], eye_list[1][0])\n",
        "        ey = min(eye_list[0][1], eye_list[1][1])\n",
        "        ew = max(eye_list[0][0]+eye_list[0][2], eye_list[1][0]+eye_list[1][2]) - ex\n",
        "        eh = max(eye_list[0][1]+eye_list[0][3], eye_list[1][1]+eye_list[1][3]) - ey\n",
        "\n",
        "        print(\"[ex,ey] = %d,%d [ew,eh] = %d,%d\" %(ex, ey, ew, eh))\n",
        "\n",
        "        try:\n",
        "            cv2.rectangle(img2, (ex, ey), (ex + ew, ey + eh), (0, 255, 0), 2)\n",
        "\n",
        "            #切り抜き範囲が元画像をはみ出る場合は黒画像で埋める\n",
        "            top = max(0, int(ey-eh/4))\n",
        "            bottom = min(grayscale_img.shape[0], int(ey+7/6*eh))\n",
        "            left = max(0,int(ex-ew/10))\n",
        "            right = min(grayscale_img.shape[1], int(ex + 11/10*ew))\n",
        "\n",
        "            print(f\"top:{top}, bottom:{bottom}, left:{left}, right:{right}\")\n",
        "\n",
        "            img_cropped = img[top: bottom,left:right]\n",
        "            height, width = img_cropped.shape[:2]\n",
        "\n",
        "            img_resized = scale_to_width(img_cropped, size) #1辺を指定したpixにresize \n",
        "\n",
        "            #クロップした画像を表示\n",
        "            if showImage:\n",
        "                show_image(img_resized)\n",
        "            print(img2.shape)\n",
        "\n",
        "            #縦、横に対する割合\n",
        "            X = round((right+left)/2/img2.shape[1], 6)\n",
        "            Y = round((top+bottom)/2/img2.shape[0], 6)\n",
        "            W = round((right-left)/img.shape[1], 6)\n",
        "            H = round((bottom-top)/img.shape[0], 6)\n",
        "            txt = f\"{class_num} {X} {Y} {W} {H}\"\n",
        "            return img_resized, txt\n",
        "\n",
        "        except:\n",
        "            print('crop error')\n"
      ],
      "metadata": {
        "id": "aR56JrxipDoK"
      },
      "execution_count": 7,
      "outputs": []
    },
    {
      "cell_type": "code",
      "source": [
        "img, txt = crop_bilateral(test_path, class_num=0, size=640)\n",
        "print(txt)\n",
        "\n",
        "with open(\"test.txt\", mode='w') as f:\n",
        "    f.write(txt)\n",
        "\n",
        "\n",
        "# #検出された画像を確認\n",
        "# src = cv2.cvtColor(img_resized_list[0], cv2.COLOR_BGR2RGB)\n",
        "# plt.imshow(src)\n"
      ],
      "metadata": {
        "id": "sQkblQvvgl9s"
      },
      "execution_count": null,
      "outputs": []
    },
    {
      "cell_type": "markdown",
      "source": [
        "#**Aquisition of bounding boxes**\n",
        "\n",
        "画像とラベルを指定フォルダに保存"
      ],
      "metadata": {
        "id": "Z8R1kiD9lU-H"
      }
    },
    {
      "cell_type": "code",
      "source": [
        "orig_folder = \"/content/GO_extended_dataset/Control_photo_1886mai\" \n",
        "dst_folder = \"/content/drive/MyDrive/Deep_learning/GO_extended_dataset/periocular_for_YOLO/cont\"\n",
        "class_num = 0 #classをテキストに書き込む(0:cont, 1:grav)\n",
        "\n",
        "\n",
        "# orig_folder = \"/content/GO_extended_dataset/treatable\" \n",
        "# dst_folder = \"/content/drive/MyDrive/Deep_learning/GO_extended_dataset/periocular_for_YOLO/grav\"\n",
        "# class_num = 1 #classをテキストに書き込む(0:cont, 1:grav)\n",
        "\n",
        "path_list = glob.glob(orig_folder+\"/*\")\n",
        "path = path_list[1]\n",
        "path\n"
      ],
      "metadata": {
        "colab": {
          "base_uri": "https://localhost:8080/",
          "height": 54
        },
        "id": "8gIkLcQWmH9d",
        "outputId": "c710c3ff-f609-4a12-94be-abf44a60d165"
      },
      "execution_count": 20,
      "outputs": [
        {
          "output_type": "execute_result",
          "data": {
            "text/plain": [
              "'/content/GO_extended_dataset/Control_photo_1886mai/9391-20200902-84-102157_59bb947c0481af6bf0254139410a26c2f43c333726c2f3e379280c9af14bba44.jpg'"
            ],
            "application/vnd.google.colaboratory.intrinsic+json": {
              "type": "string"
            }
          },
          "metadata": {},
          "execution_count": 20
        }
      ]
    },
    {
      "cell_type": "code",
      "source": [
        "path_list = glob.glob(orig_folder+\"/*\")\n",
        "#path_list = [path_list[0]] #テスト用\n",
        "dst_folder = dst_folder\n",
        "\n",
        "#処理時間の計測\n",
        "start = time.time()\n",
        "\n",
        "#もしdst_folderがあれば削除して新しく作り直す\n",
        "if os.path.exists(dst_folder):\n",
        "    shutil.rmtree(dst_folder)\n",
        "os.makedirs(f\"{dst_folder}/images\") #image格納用\n",
        "os.makedirs(f\"{dst_folder}/images_cropped\") #cropped_image格納用 (YOLOでは使用しない)\n",
        "os.makedirs(f\"{dst_folder}/labels\") #label格納用\n",
        "\n",
        "\n",
        "num=0\n",
        "for path in path_list:\n",
        "    try: #目が検出されなかった場合のエラー回避\n",
        "        img, txt = crop_bilateral(path, class_num=class_num, size=640, showImage=False)  #両眼抜き出して640pxで保存（crop時にエラーが出るものは削除される）\n",
        "        img2 = cv2.imread(path).copy()\n",
        "        img2 = scale_to_width(img2, 640)  #切り抜く前の画像を横のサイズを640になるように縮小\n",
        "        cv2.imwrite(f\"{dst_folder}/images/{os.path.basename(path).split('.')[0]}.JPG\", img2) #cropせずに縮小したイメージを保存\n",
        "        cv2.imwrite(f\"{dst_folder}/images_cropped/{os.path.basename(path).split('.')[0]}.JPG\", img) #cropしたイメージを保存する場合\n",
        "\n",
        "        with open(f\"{dst_folder}/labels/{os.path.basename(path).split('.')[0]}.txt\", mode='w') as f:\n",
        "            f.write(txt)\n",
        "        num+=1\n",
        "    except:\n",
        "        pass\n",
        "\n",
        "print(\"\")\n",
        "print('Process done!!')\n",
        "elapsed_time = time.time() - start\n",
        "print (\"elapsed_time:{0}\".format(elapsed_time) + \"[sec]\")\n",
        "print (f\"image_num:{num}\")\n"
      ],
      "metadata": {
        "id": "R8k494hphZs9",
        "colab": {
          "base_uri": "https://localhost:8080/"
        },
        "outputId": "2d5c2f81-4512-46d6-db78-a59d4117f2a2"
      },
      "execution_count": null,
      "outputs": [
        {
          "output_type": "stream",
          "name": "stdout",
          "text": [
            "\n",
            "image path =  /content/GO_extended_dataset/Control_photo_1886mai/6636.jpg\n",
            "目が2個検出されました\n",
            "eye_list: [[1402  506  693  693]\n",
            " [ 283  494  689  689]]\n",
            "[ex,ey] = 1402,506 [ew,eh] = 693,693\n",
            "[ex,ey] = 283,494 [ew,eh] = 689,689\n",
            "[ex,ey] = 283,494 [ew,eh] = 1812,705\n",
            "top:317, bottom:1316, left:101, right:2276\n",
            "(1536, 2304, 3)\n",
            "\n",
            "image path =  /content/GO_extended_dataset/Control_photo_1886mai/5910.jpg\n",
            "目が2個検出されました\n",
            "eye_list: [[1448  709  478  478]\n",
            " [ 264  743  568  568]]\n",
            "[ex,ey] = 1448,709 [ew,eh] = 478,478\n",
            "[ex,ey] = 264,743 [ew,eh] = 568,568\n",
            "[ex,ey] = 264,709 [ew,eh] = 1662,602\n",
            "top:558, bottom:1411, left:97, right:2092\n",
            "(1536, 2304, 3)\n",
            "\n",
            "image path =  /content/GO_extended_dataset/Control_photo_1886mai/5769.JPG\n",
            "目が2個検出されました\n",
            "eye_list: [[ 227  371  534  534]\n",
            " [1218  315  601  601]]\n",
            "[ex,ey] = 227,371 [ew,eh] = 534,534\n",
            "[ex,ey] = 1218,315 [ew,eh] = 601,601\n",
            "[ex,ey] = 227,315 [ew,eh] = 1592,601\n",
            "top:164, bottom:1016, left:67, right:1978\n",
            "(1312, 2000, 3)\n",
            "\n",
            "image path =  /content/GO_extended_dataset/Control_photo_1886mai/5143.jpg\n",
            "目が2個検出されました\n",
            "eye_list: [[1357  480  644  644]\n",
            " [ 230  452  624  624]]\n",
            "[ex,ey] = 1357,480 [ew,eh] = 644,644\n",
            "[ex,ey] = 230,452 [ew,eh] = 624,624\n",
            "[ex,ey] = 230,452 [ew,eh] = 1771,672\n",
            "top:284, bottom:1236, left:52, right:2178\n",
            "(1536, 2304, 3)\n",
            "\n",
            "image path =  /content/GO_extended_dataset/Control_photo_1886mai/2950.jpg\n",
            "目が1個検出されました\n",
            "eye_list: [[178 438 658 658]]\n",
            "\n",
            "image path =  /content/GO_extended_dataset/Control_photo_1886mai/7848.JPG\n",
            "目が1個検出されました\n",
            "eye_list: [[1257  399  458  458]]\n",
            "\n",
            "image path =  /content/GO_extended_dataset/Control_photo_1886mai/5596.jpg\n",
            "目が2個検出されました\n",
            "eye_list: [[1797  808  782  782]\n",
            " [ 261  892  778  778]]\n",
            "[ex,ey] = 1797,808 [ew,eh] = 782,782\n",
            "[ex,ey] = 261,892 [ew,eh] = 778,778\n",
            "[ex,ey] = 261,808 [ew,eh] = 2318,862\n",
            "top:592, bottom:1813, left:29, right:2810\n",
            "(2000, 2992, 3)\n",
            "\n",
            "image path =  /content/GO_extended_dataset/Control_photo_1886mai/6073.jpg\n",
            "目が2個検出されました\n",
            "eye_list: [[1794  922  658  658]\n",
            " [ 489  905  662  662]]\n",
            "[ex,ey] = 1794,922 [ew,eh] = 658,658\n",
            "[ex,ey] = 489,905 [ew,eh] = 662,662\n",
            "[ex,ey] = 489,905 [ew,eh] = 1963,675\n",
            "top:736, bottom:1692, left:292, right:2648\n",
            "(2000, 2992, 3)\n",
            "\n",
            "image path =  /content/GO_extended_dataset/Control_photo_1886mai/1033.JPG\n",
            "目が2個検出されました\n",
            "eye_list: [[ 172  365  582  582]\n",
            " [1182  303  664  664]]\n",
            "[ex,ey] = 172,365 [ew,eh] = 582,582\n",
            "[ex,ey] = 1182,303 [ew,eh] = 664,664\n",
            "[ex,ey] = 172,303 [ew,eh] = 1674,664\n",
            "top:137, bottom:1077, left:4, right:2000\n",
            "(1312, 2000, 3)\n",
            "\n",
            "image path =  /content/GO_extended_dataset/Control_photo_1886mai/1851.jpg\n",
            "目が2個検出されました\n",
            "eye_list: [[ 292  722  744  744]\n",
            " [1770  710  813  813]]\n",
            "[ex,ey] = 292,722 [ew,eh] = 744,744\n",
            "[ex,ey] = 1770,710 [ew,eh] = 813,813\n",
            "[ex,ey] = 292,710 [ew,eh] = 2291,813\n",
            "top:506, bottom:1658, left:62, right:2812\n",
            "(2000, 2992, 3)\n",
            "\n",
            "image path =  /content/GO_extended_dataset/Control_photo_1886mai/2118.jpg\n",
            "目が3個検出されました\n",
            "eye_list: [[ 399  826  626  626]\n",
            " [1739  770  910  910]\n",
            " [1943  855  633  633]]\n",
            "\n",
            "image path =  /content/GO_extended_dataset/Control_photo_1886mai/4819.jpg\n",
            "目が2個検出されました\n",
            "eye_list: [[ 142  687  864  864]\n",
            " [1927  624  901  901]]\n",
            "[ex,ey] = 142,687 [ew,eh] = 864,864\n",
            "[ex,ey] = 1927,624 [ew,eh] = 901,901\n",
            "[ex,ey] = 142,624 [ew,eh] = 2686,927\n",
            "top:392, bottom:1705, left:0, right:2992\n",
            "(2000, 2992, 3)\n",
            "\n",
            "image path =  /content/GO_extended_dataset/Control_photo_1886mai/2150.jpg\n",
            "目が2個検出されました\n",
            "eye_list: [[1641  533  626  626]\n",
            " [  54  476  696  696]]\n",
            "[ex,ey] = 1641,533 [ew,eh] = 626,626\n",
            "[ex,ey] = 54,476 [ew,eh] = 696,696\n",
            "[ex,ey] = 54,476 [ew,eh] = 2213,696\n",
            "top:302, bottom:1288, left:0, right:2304\n",
            "(1536, 2304, 3)\n",
            "\n",
            "image path =  /content/GO_extended_dataset/Control_photo_1886mai/1136.jpg\n",
            "目が2個検出されました\n",
            "eye_list: [[3033 1239  863  863]\n",
            " [ 684 1322  856  856]]\n",
            "[ex,ey] = 3033,1239 [ew,eh] = 863,863\n",
            "[ex,ey] = 684,1322 [ew,eh] = 856,856\n",
            "[ex,ey] = 684,1239 [ew,eh] = 3212,939\n",
            "top:1004, bottom:2334, left:362, right:4217\n",
            "(3072, 4608, 3)\n",
            "\n",
            "image path =  /content/GO_extended_dataset/Control_photo_1886mai/4882.jpg\n",
            "目が2個検出されました\n",
            "eye_list: [[1810  667  838  838]\n",
            " [ 406  733  798  798]]\n",
            "[ex,ey] = 1810,667 [ew,eh] = 838,838\n",
            "[ex,ey] = 406,733 [ew,eh] = 798,798\n",
            "[ex,ey] = 406,667 [ew,eh] = 2242,864\n",
            "top:451, bottom:1675, left:181, right:2872\n",
            "(2000, 2992, 3)\n",
            "\n",
            "image path =  /content/GO_extended_dataset/Control_photo_1886mai/324.JPG\n",
            "目が2個検出されました\n",
            "eye_list: [[ 231  489  497  497]\n",
            " [1250  467  499  499]]\n",
            "[ex,ey] = 231,489 [ew,eh] = 497,497\n",
            "[ex,ey] = 1250,467 [ew,eh] = 499,499\n",
            "[ex,ey] = 231,467 [ew,eh] = 1518,519\n",
            "top:337, bottom:1072, left:79, right:1900\n",
            "(1312, 2000, 3)\n",
            "\n",
            "image path =  /content/GO_extended_dataset/Control_photo_1886mai/2446.jpg\n",
            "目が2個検出されました\n",
            "eye_list: [[1975  851  626  626]\n",
            " [ 263  807  796  796]]\n",
            "[ex,ey] = 1975,851 [ew,eh] = 626,626\n",
            "[ex,ey] = 263,807 [ew,eh] = 796,796\n",
            "[ex,ey] = 263,807 [ew,eh] = 2338,796\n",
            "top:608, bottom:1735, left:29, right:2834\n",
            "(2000, 2992, 3)\n",
            "\n",
            "image path =  /content/GO_extended_dataset/Control_photo_1886mai/5082.JPG\n",
            "目が2個検出されました\n",
            "eye_list: [[1249  360  592  592]\n",
            " [ 170  317  608  608]]\n",
            "[ex,ey] = 1249,360 [ew,eh] = 592,592\n",
            "[ex,ey] = 170,317 [ew,eh] = 608,608\n",
            "[ex,ey] = 170,317 [ew,eh] = 1671,635\n",
            "top:158, bottom:1057, left:2, right:2000\n",
            "(1312, 2000, 3)\n",
            "\n",
            "image path =  /content/GO_extended_dataset/Control_photo_1886mai/7331.jpg\n",
            "目が2個検出されました\n",
            "eye_list: [[2876  899 1337 1337]\n",
            " [ 244  939 1381 1381]]\n",
            "[ex,ey] = 2876,899 [ew,eh] = 1337,1337\n",
            "[ex,ey] = 244,939 [ew,eh] = 1381,1381\n",
            "[ex,ey] = 244,899 [ew,eh] = 3969,1421\n",
            "top:543, bottom:2556, left:0, right:4608\n",
            "(3072, 4608, 3)\n",
            "\n",
            "image path =  /content/GO_extended_dataset/Control_photo_1886mai/383.jpg\n",
            "目が2個検出されました\n",
            "eye_list: [[ 618 1204 1315 1315]\n",
            " [3072 1301 1223 1223]]\n",
            "[ex,ey] = 618,1204 [ew,eh] = 1315,1315\n",
            "[ex,ey] = 3072,1301 [ew,eh] = 1223,1223\n",
            "[ex,ey] = 618,1204 [ew,eh] = 3677,1320\n",
            "top:874, bottom:2744, left:250, right:4608\n",
            "(3072, 4608, 3)\n",
            "\n",
            "image path =  /content/GO_extended_dataset/Control_photo_1886mai/2344.jpg\n",
            "目が2個検出されました\n",
            "eye_list: [[ 309  562  506  506]\n",
            " [1386  569  559  559]]\n",
            "[ex,ey] = 309,562 [ew,eh] = 506,506\n",
            "[ex,ey] = 1386,569 [ew,eh] = 559,559\n",
            "[ex,ey] = 309,562 [ew,eh] = 1636,566\n",
            "top:420, bottom:1222, left:145, right:2108\n",
            "(1536, 2304, 3)\n"
          ]
        }
      ]
    },
    {
      "cell_type": "markdown",
      "source": [
        "#**YOLO_v5 training用フォルダを作成**\n",
        "\n",
        "datasetをtrainとvalに分ける\n",
        "\n",
        "https://book.st-hakky.com/docs/object-detection-yolov5-tutorial/\n",
        "\n"
      ],
      "metadata": {
        "id": "VPi74ZCZrVDF"
      }
    },
    {
      "cell_type": "code",
      "source": [
        "\"\"\"\n",
        "-----dataset-----train-----images\n",
        "              |         |--labels \n",
        "              |--valid-----images\n",
        "              |         |--labels\n",
        "              |--dataset.yaml\n",
        "\n",
        "\"\"\""
      ],
      "metadata": {
        "id": "YiuPobEMYWKk"
      },
      "execution_count": null,
      "outputs": []
    },
    {
      "cell_type": "code",
      "source": [
        "# split dataset\n",
        "\n",
        "import numpy as np\n",
        "from sklearn.model_selection import train_test_split\n",
        "import glob\n",
        "import os\n",
        "import shutil\n",
        "\n",
        "dataset_dir = \"/content/drive/MyDrive/Deep_learning/GO_extended_dataset/periocular_for_YOLO\"\n",
        "\n",
        "def split_dataset(dataset_dir):\n",
        "    img_list = glob.glob(f\"{dataset_dir}/images/*\")\n",
        "    img_train, img_test = train_test_split(img_list, test_size=0.3, random_state=0)\n",
        "\n",
        "    # img_train, img_testに名前が一致するtxtファイルを抜き出す\n",
        "    label_train = [f\"{dataset_dir}/labels/{os.path.basename(i).split('.')[0]}.txt\" for i in img_train]\n",
        "    label_test = [f\"{dataset_dir}/labels/{os.path.basename(i).split('.')[0]}.txt\" for i in img_test]\n",
        "\n",
        "    print(f\"train: {len(label_train)},test: {len(label_test)}\")\n",
        "\n",
        "    return img_train, img_test, label_train, label_test\n",
        "\n",
        "\n",
        "img_train_grav, img_test_grav, label_train_grav, label_test_grav = split_dataset(f\"{dataset_dir}/grav\")    \n",
        "img_train_cont, img_test_cont, label_train_cont, label_test_cont = split_dataset(f\"{dataset_dir}/cont\")    \n",
        "\n",
        "\n"
      ],
      "metadata": {
        "id": "hHiTlYEnLx_u",
        "outputId": "5a894a1c-afda-4455-a3c6-ad1b6d407d56",
        "colab": {
          "base_uri": "https://localhost:8080/"
        }
      },
      "execution_count": 13,
      "outputs": [
        {
          "output_type": "stream",
          "name": "stdout",
          "text": [
            "train: 1159,test: 498\n",
            "train: 1159,test: 497\n"
          ]
        }
      ]
    },
    {
      "cell_type": "code",
      "source": [
        "#YOLOv5トレーニング用\n",
        "#もしdst_folderがあれば削除して新しく作り直す\n",
        "dst_folder = \"/content/drive/MyDrive/Deep_learning/GO_extended_dataset/periocular_for_YOLO_training\"\n",
        "\n",
        "if os.path.exists(dst_folder):\n",
        "    shutil.rmtree(dst_folder)\n",
        "os.makedirs(f\"{dst_folder}/images\")\n",
        "os.makedirs(f\"{dst_folder}/labels\")\n",
        "\n",
        "for file in img_train_grav:\n",
        "    shutil.copy(file, f\"{dst_folder}/images/{os.path.basename(file)}\")\n",
        "for file in img_train_cont:\n",
        "    shutil.copy(file, f\"{dst_folder}/images/{os.path.basename(file)}\")\n",
        "for file in img_test_grav:\n",
        "    shutil.copy(file, f\"{dst_folder}/images/{os.path.basename(file)}\")\n",
        "for file in img_test_cont:\n",
        "    shutil.copy(file, f\"{dst_folder}/images/{os.path.basename(file)}\")\n",
        "for file in label_train_grav:\n",
        "    shutil.copy(file, f\"{dst_folder}/labels/{os.path.basename(file)}\")\n",
        "for file in label_train_grav:\n",
        "    shutil.copy(file, f\"{dst_folder}/labels/{os.path.basename(file)}\")            \n",
        "for file in label_test_cont:\n",
        "    shutil.copy(file, f\"{dst_folder}/labels/{os.path.basename(file)}\")\n",
        "for file in label_test_cont:\n",
        "    shutil.copy(file, f\"{dst_folder}/labels/{os.path.basename(file)}\") \n",
        "\n"
      ],
      "metadata": {
        "id": "lKe9k8SirUGt"
      },
      "execution_count": 14,
      "outputs": []
    },
    {
      "cell_type": "code",
      "source": [
        "%cd $dst_folder"
      ],
      "metadata": {
        "colab": {
          "base_uri": "https://localhost:8080/"
        },
        "id": "AAUdjy9A0YZw",
        "outputId": "b2460d5e-44af-472a-f881-4aa8e5ce5892"
      },
      "execution_count": null,
      "outputs": [
        {
          "output_type": "stream",
          "name": "stdout",
          "text": [
            "/content/drive/MyDrive/Deep_learning/GO_extended_dataset/periocular_for_YOLO_training\n"
          ]
        }
      ]
    },
    {
      "cell_type": "code",
      "source": [
        "%%writefile dataset.yaml\n",
        "# path\n",
        "train: /content/drive/MyDrive/Deep_learning/GO_extended_dataset/periocular_for_YOLO_training/train/images\n",
        "val: /content/drive/MyDrive/Deep_learning/GO_extended_dataset/periocular_for_YOLO_training/valid/images\n",
        "\n",
        "# num of classes\n",
        "nc: 2\n",
        "\n",
        "#class names\n",
        "names: ['cont', 'grav'] # class名を定義"
      ],
      "metadata": {
        "id": "giDFflceMi9p",
        "colab": {
          "base_uri": "https://localhost:8080/"
        },
        "outputId": "012dcc76-69f2-4703-9869-d9e606ed799a"
      },
      "execution_count": null,
      "outputs": [
        {
          "output_type": "stream",
          "name": "stdout",
          "text": [
            "Writing dataset.yaml\n"
          ]
        }
      ]
    },
    {
      "cell_type": "code",
      "source": [],
      "metadata": {
        "id": "spn1bRX60hYN"
      },
      "execution_count": null,
      "outputs": []
    }
  ]
}