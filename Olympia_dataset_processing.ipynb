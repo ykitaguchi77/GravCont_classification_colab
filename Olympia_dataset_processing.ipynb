{
  "nbformat": 4,
  "nbformat_minor": 0,
  "metadata": {
    "colab": {
      "provenance": [],
      "authorship_tag": "ABX9TyOX8yxbFr9ddws8FhCiCqD5",
      "include_colab_link": true
    },
    "kernelspec": {
      "name": "python3",
      "display_name": "Python 3"
    },
    "language_info": {
      "name": "python"
    }
  },
  "cells": [
    {
      "cell_type": "markdown",
      "metadata": {
        "id": "view-in-github",
        "colab_type": "text"
      },
      "source": [
        "<a href=\"https://colab.research.google.com/github/ykitaguchi77/GravCont_classification_colab/blob/master/Olympia_dataset_processing.ipynb\" target=\"_parent\"><img src=\"https://colab.research.google.com/assets/colab-badge.svg\" alt=\"Open In Colab\"/></a>"
      ]
    },
    {
      "cell_type": "markdown",
      "source": [
        "#**Preprocess Oplympia dataset**"
      ],
      "metadata": {
        "id": "sHSffYi18c1F"
      }
    },
    {
      "cell_type": "code",
      "execution_count": 1,
      "metadata": {
        "colab": {
          "base_uri": "https://localhost:8080/"
        },
        "id": "itAl7vpX8YcI",
        "outputId": "d571892d-9928-4e23-d311-fdbdee59b45d"
      },
      "outputs": [
        {
          "output_type": "stream",
          "name": "stdout",
          "text": [
            "Mounted at /content/drive\n"
          ]
        }
      ],
      "source": [
        "#GDriveをマウント\n",
        "from google.colab import drive\n",
        "drive.mount('/content/drive')"
      ]
    },
    {
      "cell_type": "code",
      "source": [
        "parent_path = \"/content/drive/MyDrive/Deep_learning/Olympia_dataset\"\n",
        "\n",
        "%cd $parent_path"
      ],
      "metadata": {
        "colab": {
          "base_uri": "https://localhost:8080/"
        },
        "id": "4D4NtyMJ9BQy",
        "outputId": "19783c23-40fe-46d7-b992-43a274a44fab"
      },
      "execution_count": 4,
      "outputs": [
        {
          "output_type": "stream",
          "name": "stdout",
          "text": [
            "/content/drive/MyDrive/Deep_learning/Olympia_dataset\n"
          ]
        }
      ]
    },
    {
      "cell_type": "code",
      "source": [
        "import glob\n",
        "import os\n",
        "import shutil\n",
        "import cv2\n",
        "\n",
        "\n",
        "treated_id = os.listdir(\"treated_500px\")\n",
        "untreated_id = os.listdir(\"untreated\")"
      ],
      "metadata": {
        "id": "XAvcrScM9GOX"
      },
      "execution_count": 5,
      "outputs": []
    },
    {
      "cell_type": "markdown",
      "source": [
        "# **横幅640pixelにresizeして別フォルダに保存**"
      ],
      "metadata": {
        "id": "6-l-WRMUAokc"
      }
    },
    {
      "cell_type": "code",
      "source": [
        "# Create destination directories\n",
        "basename_lists = [treated_id, untreated_id]\n",
        "dst_dirs = [\"treated_640px\", \"untreated_640px\"]\n",
        "for dir in dst_dirs:\n",
        "    if os.path.exists(dir):\n",
        "        shutil.rmtree(dir)\n",
        "    os.makedirs(dir)"
      ],
      "metadata": {
        "id": "Q_5WvQerAoz7"
      },
      "execution_count": 6,
      "outputs": []
    },
    {
      "cell_type": "code",
      "source": [
        "def resize_by_width(orig_dir, dst_dir, basename_list, width):\n",
        "    path_list = glob.glob(f\"{orig_dir}/*\")\n",
        "    for path in path_list:\n",
        "        if os.path.basename(path) in basename_list:\n",
        "            # Load the image\n",
        "            img = cv2.imread(path)\n",
        "            # Get the aspect ratio of the original image\n",
        "            aspect_ratio = float(img.shape[0]) / img.shape[1]\n",
        "            # Calculate the new height of the image\n",
        "            new_height = int(640 * aspect_ratio)\n",
        "            # Resize the image to 640xnew_height while maintaining aspect ratio\n",
        "            resized_img = cv2.resize(img, (640, new_height), interpolation = cv2.INTER_LINEAR)\n",
        "            # Save the resized image\n",
        "            cv2.imwrite(f\"{dst_dir}/{os.path.basename(path)}\", resized_img)\n",
        "            print(path)"
      ],
      "metadata": {
        "id": "ukBxF8uX_Wi2"
      },
      "execution_count": 8,
      "outputs": []
    },
    {
      "cell_type": "code",
      "source": [
        "for dst_dir, basename_list in zip(dst_dirs, basename_lists):\n",
        "    resize_by_width(\"dataset\", dst_dir, basename_list, width=640)\n",
        "    print(f\"{dst_dir} done!!\")"
      ],
      "metadata": {
        "id": "rqMxtNjQ-aCd"
      },
      "execution_count": null,
      "outputs": []
    },
    {
      "cell_type": "code",
      "source": [],
      "metadata": {
        "id": "v52ulR2HD8gA"
      },
      "execution_count": null,
      "outputs": []
    }
  ]
}