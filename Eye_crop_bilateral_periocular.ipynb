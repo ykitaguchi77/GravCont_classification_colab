{
  "nbformat": 4,
  "nbformat_minor": 0,
  "metadata": {
    "colab": {
      "name": "Untitled37.ipynb",
      "provenance": [],
      "machine_shape": "hm",
      "include_colab_link": true
    },
    "kernelspec": {
      "name": "python3",
      "display_name": "Python 3"
    },
    "gpuClass": "standard"
  },
  "cells": [
    {
      "cell_type": "markdown",
      "metadata": {
        "id": "view-in-github",
        "colab_type": "text"
      },
      "source": [
        "<a href=\"https://colab.research.google.com/github/ykitaguchi77/GravCont_classification_colab/blob/master/Eye_crop_bilateral_periocular.ipynb\" target=\"_parent\"><img src=\"https://colab.research.google.com/assets/colab-badge.svg\" alt=\"Open In Colab\"/></a>"
      ]
    },
    {
      "cell_type": "markdown",
      "metadata": {
        "id": "C2mKFMmwfTOi"
      },
      "source": [
        "#顔の画像から目を検出して切り抜くスクリプト\n",
        "・Haarcascade_eyeを使用<br>\n",
        "・目が検出できないものはskipする<br>\n",
        "・横幅を1/4倍、縦幅を上下に1/4倍追加して画像を切り取る（目の全幅、眉毛が含まれるように）\n",
        "\n",
        "・切り取った画像を500px*500pxにresizeする<br>\n",
        "・フォルダ内の画像を一括変換して別フォルダに保存"
      ]
    },
    {
      "cell_type": "code",
      "metadata": {
        "id": "I5xvbecME5IS"
      },
      "source": [
        "import numpy as np\n",
        "import matplotlib.pyplot as plt\n",
        "import time\n",
        "import os\n",
        "import shutil\n",
        "import copy\n",
        "import pandas as pd\n",
        "import csv\n",
        "from random import randint\n",
        "from time import sleep\n",
        "import numpy as np\n",
        "import sys\n",
        "\n",
        "\n",
        "import glob\n",
        "import random\n",
        "from PIL import Image\n",
        "%matplotlib inline\n",
        "\n",
        "#サポートパッチのインポート\n",
        "from google.colab.patches import cv2_imshow\n",
        "import cv2\n",
        "\n",
        "plt.ion()   # interactive mode"
      ],
      "execution_count": 1,
      "outputs": []
    },
    {
      "cell_type": "markdown",
      "metadata": {
        "id": "v0ZI4pHmFDXZ"
      },
      "source": [
        "#Google colabをマウント"
      ]
    },
    {
      "cell_type": "code",
      "metadata": {
        "id": "zkrhEditFGkP",
        "colab": {
          "base_uri": "https://localhost:8080/"
        },
        "outputId": "01b55898-865f-49ba-e9a3-5fd67467f239"
      },
      "source": [
        "'''\n",
        "・dlibを用いて目を切り抜く\n",
        "・横幅を2倍、縦幅を上に1倍追加/下に0.5倍追加して画像を切り取る（目の全幅、眉毛が含まれるように）\n",
        "'''\n",
        "\n",
        "from google.colab import drive\n",
        "drive.mount('/content/drive')"
      ],
      "execution_count": 2,
      "outputs": [
        {
          "output_type": "stream",
          "name": "stdout",
          "text": [
            "Mounted at /content/drive\n"
          ]
        }
      ]
    },
    {
      "cell_type": "code",
      "metadata": {
        "id": "mt7fAuwXxNka",
        "colab": {
          "base_uri": "https://localhost:8080/"
        },
        "outputId": "563ef48f-ce1a-40cd-f5ab-7cbbaec32c81"
      },
      "source": [
        "#残り時間確認\n",
        "!cat /proc/uptime | awk '{printf(\"残り時間 : %.2f\", 12-$1/60/60)}'\n"
      ],
      "execution_count": 3,
      "outputs": [
        {
          "output_type": "stream",
          "name": "stdout",
          "text": [
            "残り時間 : 11.53"
          ]
        }
      ]
    },
    {
      "cell_type": "code",
      "metadata": {
        "id": "oSA2Rm9MFXoZ"
      },
      "source": [
        "#元画像\n",
        "in_path = '/content/drive/MyDrive/Deep_learning/Face_Images/IMG_3110.JPG'\n",
        "in_path = '/content/drive/MyDrive/Deep_learning/Olympia_dataset/dataset/799.JPG'\n",
        "#保存先フォルダ\n",
        "out_path = '/content/drive/My Drive/Deep_learning/eyelid_images/IMG_3110_eye.JPG'\n"
      ],
      "execution_count": 4,
      "outputs": []
    },
    {
      "cell_type": "markdown",
      "metadata": {
        "id": "v0shkziUPn1c"
      },
      "source": [
        "#Haarcascadeを指定"
      ]
    },
    {
      "cell_type": "code",
      "metadata": {
        "id": "qfu_RX-kIlmx"
      },
      "source": [
        "# カスケードファイルのパス\n",
        "eye_cascade_path = '/content/drive/My Drive/Deep_learning/haarcascade_eye.xml'\n",
        "\n",
        "# カスケード分類器の特徴量取得\n",
        "eye_cascade = cv2.CascadeClassifier(eye_cascade_path)"
      ],
      "execution_count": 5,
      "outputs": []
    },
    {
      "cell_type": "code",
      "source": [
        "#アスペクト比を維持したまま横を400pixelに縮小する\n",
        "def scale_to_width(img, width):\n",
        "    scale = width / img.shape[1]\n",
        "    return cv2.resize(img, dsize=None, fx=scale, fy=scale)\n",
        "\n",
        "#図を表示する\n",
        "def show_image(img):\n",
        "    #img = cv2.imread(out_path)\n",
        "    dst = scale_to_width(img, 200)\n",
        "    cv2_imshow(dst)\n",
        "\n",
        "def show_image_pillow(img):\n",
        "    src = cv2.cvtColor(img_resized_list[0], cv2.COLOR_BGR2RGB)\n",
        "    plt.imshow(src)\n",
        "\n",
        "def my_round(val, digit=0):\n",
        "    p = 10 ** digit\n",
        "    return int((val * p * 2 + 1) // 2 / p)"
      ],
      "metadata": {
        "id": "SMbQsnPTHf-K"
      },
      "execution_count": 7,
      "outputs": []
    },
    {
      "cell_type": "code",
      "source": [
        "def crop_bilateral(in_path, size, showImage=True):\n",
        "    img_resized_list,side_list = [],[]\n",
        "\n",
        "    img = cv2.imread(in_path) \n",
        "    img2 = img.copy()\n",
        "\n",
        "    if showImage:\n",
        "        show_image(img)\n",
        "\n",
        "    # 画像グレースケール化\n",
        "    grayscale_img = cv2.cvtColor(img, cv2.COLOR_RGB2GRAY)\n",
        "\n",
        "    #300pix以上のもので目に見えるものを抽出\n",
        "    eye_list = eye_cascade.detectMultiScale(grayscale_img, minSize=(300, 300))\n",
        "    print(\"\")\n",
        "    print('image path = ',in_path)\n",
        "\n",
        "    # 眼検出判定\n",
        "    if len(eye_list) >= 1:\n",
        "        print('目が' + str(len(eye_list)) +'個検出されました')\n",
        "        pass\n",
        "    else:\n",
        "        print(\"no eye detected\")\n",
        "        pass\n",
        "\n",
        "    print(eye_list)\n",
        "\n",
        "    #画像の切り抜きと保存（連番にする）\n",
        "    if len(eye_list)>= 1: \n",
        "        for (ex, ey, ew, eh) in eye_list:\n",
        "            print(\"[ex,ey] = %d,%d [ew,eh] = %d,%d\" %(ex, ey, ew, eh))\n",
        "            \n",
        "            try:\n",
        "              cv2.rectangle(img2, (ex, ey), (ex + ew, ey + eh), (0, 255, 0), 2)\n",
        "\n",
        "              #切り抜き範囲が元画像をはみ出る場合は黒画像で埋める\n",
        "              top = max(0, ey-int(eh/4))\n",
        "              bottom = min(grayscale_img.shape[0], int(ey + eh*5/4))\n",
        "              left = max(0,int(ex-int(ew/4)))\n",
        "              right = min(grayscale_img.shape[1], int(ex + ew*5/4))\n",
        "\n",
        "              #print(f\"top:{top}, bottom:{bottom}, left:{left}, right:{right}\")\n",
        "\n",
        "              img_cropped = img[top: bottom,left:right]\n",
        "              height, width = img_cropped.shape[:2]\n",
        "\n",
        "\n",
        "              #print(f\"height:{height}, width:{width}\")\n",
        "              if width==height:\n",
        "                  img_background =img_cropped\n",
        "              elif width>height:\n",
        "                  img_background = np.zeros((width,width,3), dtype = np.uint8)\n",
        "                  img_background[0:width, my_round(int((width-height)/2)) :int(((width+height)/2)+height)]=img_cropped\n",
        "              elif width<height:\n",
        "                  img_background = np.zeros((height,height,3), dtype = np.uint8)\n",
        "                  img_background[0:height, my_round(int((height-width)/2)) :int(((height-width)/2)+width)]=img_cropped\n",
        "              \n",
        "              img_resized = cv2.resize(img_background,(size,size)) #1辺を指定したpixにresize \n",
        "\n",
        "              #クロップした画像を表示\n",
        "              #show_image(img_resized)\n",
        "\n",
        "            except:\n",
        "              print('crop error')\n",
        "\n",
        "            if ex <= grayscale_img.shape[1]/2:\n",
        "                side = 0 #600ピクセル目より左にあるのは右眼\n",
        "            else:\n",
        "                side = 1 #600ピクセル目より右にあるのは左眼\n",
        "\n",
        "            try:\n",
        "                img_resized_list.append(img_resized)\n",
        "                side_list.append(side)\n",
        "            except:\n",
        "                pass\n",
        "\n",
        "    return(img_resized_list, side_list)\n"
      ],
      "metadata": {
        "id": "aR56JrxipDoK"
      },
      "execution_count": 8,
      "outputs": []
    },
    {
      "cell_type": "code",
      "source": [
        "img_resized_list, side_list = crop_bilateral(in_path, 500)\n",
        "\n",
        "# #検出された画像を確認\n",
        "# src = cv2.cvtColor(img_resized_list[0], cv2.COLOR_BGR2RGB)\n",
        "# plt.imshow(src)"
      ],
      "metadata": {
        "colab": {
          "base_uri": "https://localhost:8080/",
          "height": 278
        },
        "id": "sQkblQvvgl9s",
        "outputId": "1b625c24-5b63-47f1-e104-f2813ae8ee03"
      },
      "execution_count": 9,
      "outputs": [
        {
          "output_type": "display_data",
          "data": {
            "text/plain": [
              "<PIL.Image.Image image mode=RGB size=200x133 at 0x7FBC9AE59C10>"
            ],
            "image/png": "[encoded data removed]"
          },
          "metadata": {}
        },
        {
          "output_type": "stream",
          "name": "stdout",
          "text": [
            "\n",
            "image path =  /content/drive/MyDrive/Deep_learning/Olympia_dataset/dataset/799.JPG\n",
            "目が2個検出されました\n",
            "[[ 128  475  759  759]\n",
            " [1457  469  849  849]]\n",
            "[ex,ey] = 128,475 [ew,eh] = 759,759\n",
            "[ex,ey] = 1457,469 [ew,eh] = 849,849\n"
          ]
        }
      ]
    },
    {
      "cell_type": "markdown",
      "source": [
        "#**ここからがメイン**"
      ],
      "metadata": {
        "id": "Z8R1kiD9lU-H"
      }
    },
    {
      "cell_type": "code",
      "source": [
        "orig_folder = \"/content/drive/MyDrive/Deep_learning/Olympia_dataset/dataset\" #olympiaのデータセット\n",
        "path_list = glob.glob(orig_folder+\"/*\")\n",
        "path = path_list[0]\n",
        "path\n"
      ],
      "metadata": {
        "colab": {
          "base_uri": "https://localhost:8080/",
          "height": 35
        },
        "id": "8gIkLcQWmH9d",
        "outputId": "30b01116-1f38-4213-be95-0b14e1380070"
      },
      "execution_count": null,
      "outputs": [
        {
          "output_type": "execute_result",
          "data": {
            "text/plain": [
              "'/content/drive/MyDrive/Deep_learning/Olympia_dataset/dataset/19.JPG'"
            ],
            "application/vnd.google.colaboratory.intrinsic+json": {
              "type": "string"
            }
          },
          "metadata": {},
          "execution_count": 40
        }
      ]
    },
    {
      "cell_type": "code",
      "source": [
        "orig_folder = \"/content/drive/MyDrive/Deep_learning/Olympia_dataset/dataset\" #olympiaのデータセット\n",
        "dst_folder = \"/content/drive/MyDrive/Deep_learning/Olympia_dataset/dataset_250px_uni_periocular\"\n",
        "\n",
        "\n",
        "#処理時間の計測\n",
        "start = time.time()\n",
        "\n",
        "#もしdst_folderがあれば削除して新しく作り直す\n",
        "if os.path.exists(dst_folder):\n",
        "    shutil.rmtree(dst_folder)\n",
        "os.makedirs(dst_folder)\n",
        "\n",
        "path_list = glob.glob(orig_folder+\"/*\")\n",
        "\n",
        "num=0\n",
        "for path in path_list:\n",
        "    img_resized_list, side_list = crop_bilateral(path, 250, showImage=False) #両眼抜き出して250pxで保存（crop時にエラーが出るものは削除される）\n",
        "    for img, side in zip(img_resized_list, side_list):\n",
        "        if side == 0:\n",
        "            sidestr = \"R\"\n",
        "        elif side == 1:\n",
        "            sidestr = \"L\"\n",
        "        cv2.imwrite(dst_folder +\"/\"+ os.path.basename(path).split(\".\")[0]+\"_\"+sidestr+\".JPG\", img)\n",
        "        num+=1\n",
        "\n",
        "print(\"\")\n",
        "print('Process done!!')\n",
        "elapsed_time = time.time() - start\n",
        "print (\"elapsed_time:{0}\".format(elapsed_time) + \"[sec]\")\n",
        "print (f\"image_num:{num}\")\n"
      ],
      "metadata": {
        "id": "R8k494hphZs9",
        "colab": {
          "base_uri": "https://localhost:8080/"
        },
        "outputId": "59b07339-b8e9-4d60-c59e-47e97741940f"
      },
      "execution_count": null,
      "outputs": [
        {
          "output_type": "stream",
          "name": "stdout",
          "text": [
            "\n",
            "image path =  /content/drive/MyDrive/Deep_learning/Olympia_dataset/dataset/19.JPG\n",
            "目が2個検出されました\n",
            "[[ 177  627  696  696]\n",
            " [1584  618  708  708]]\n",
            "[ex,ey] = 177,627 [ew,eh] = 696,696\n",
            "[ex,ey] = 1584,618 [ew,eh] = 708,708\n",
            "\n",
            "image path =  /content/drive/MyDrive/Deep_learning/Olympia_dataset/dataset/20.JPG\n",
            "目が2個検出されました\n",
            "[[1570  568  815  815]\n",
            " [ 152  561  785  785]]\n",
            "[ex,ey] = 1570,568 [ew,eh] = 815,815\n",
            "[ex,ey] = 152,561 [ew,eh] = 785,785\n",
            "\n",
            "image path =  /content/drive/MyDrive/Deep_learning/Olympia_dataset/dataset/21.JPG\n",
            "目が2個検出されました\n",
            "[[ 219  627  723  723]\n",
            " [1636  610  757  757]]\n",
            "[ex,ey] = 219,627 [ew,eh] = 723,723\n",
            "[ex,ey] = 1636,610 [ew,eh] = 757,757\n",
            "\n",
            "image path =  /content/drive/MyDrive/Deep_learning/Olympia_dataset/dataset/22.JPG\n",
            "目が2個検出されました\n",
            "[[ 135  463  888  888]\n",
            " [1624  494  858  858]]\n",
            "[ex,ey] = 135,463 [ew,eh] = 888,888\n",
            "[ex,ey] = 1624,494 [ew,eh] = 858,858\n",
            "\n",
            "image path =  /content/drive/MyDrive/Deep_learning/Olympia_dataset/dataset/23.JPG\n",
            "目が2個検出されました\n",
            "[[ 175  499  695  695]\n",
            " [1676  519  772  772]]\n",
            "[ex,ey] = 175,499 [ew,eh] = 695,695\n",
            "[ex,ey] = 1676,519 [ew,eh] = 772,772\n",
            "\n",
            "image path =  /content/drive/MyDrive/Deep_learning/Olympia_dataset/dataset/24.JPG\n",
            "目が2個検出されました\n",
            "[[ 200  526  748  748]\n",
            " [1533  554  730  730]]\n",
            "[ex,ey] = 200,526 [ew,eh] = 748,748\n",
            "[ex,ey] = 1533,554 [ew,eh] = 730,730\n",
            "\n",
            "image path =  /content/drive/MyDrive/Deep_learning/Olympia_dataset/dataset/25.JPG\n",
            "目が2個検出されました\n",
            "[[ 258  477  681  681]\n",
            " [1672  434  777  777]]\n",
            "[ex,ey] = 258,477 [ew,eh] = 681,681\n",
            "[ex,ey] = 1672,434 [ew,eh] = 777,777\n",
            "\n",
            "image path =  /content/drive/MyDrive/Deep_learning/Olympia_dataset/dataset/26.JPG\n",
            "目が1個検出されました\n",
            "[[1824  588  594  594]]\n",
            "[ex,ey] = 1824,588 [ew,eh] = 594,594\n",
            "\n",
            "image path =  /content/drive/MyDrive/Deep_learning/Olympia_dataset/dataset/27.JPG\n",
            "目が2個検出されました\n",
            "[[ 234  585  769  769]\n",
            " [1558  540  771  771]]\n",
            "[ex,ey] = 234,585 [ew,eh] = 769,769\n",
            "[ex,ey] = 1558,540 [ew,eh] = 771,771\n",
            "\n",
            "image path =  /content/drive/MyDrive/Deep_learning/Olympia_dataset/dataset/28.JPG\n",
            "目が2個検出されました\n",
            "[[ 235  658  772  772]\n",
            " [1464  652  783  783]]\n",
            "[ex,ey] = 235,658 [ew,eh] = 772,772\n",
            "[ex,ey] = 1464,652 [ew,eh] = 783,783\n",
            "\n",
            "image path =  /content/drive/MyDrive/Deep_learning/Olympia_dataset/dataset/29.JPG\n",
            "目が2個検出されました\n",
            "[[  99  433  716  716]\n",
            " [1587  419  741  741]]\n",
            "[ex,ey] = 99,433 [ew,eh] = 716,716\n",
            "[ex,ey] = 1587,419 [ew,eh] = 741,741\n"
          ]
        }
      ]
    }
  ]
}