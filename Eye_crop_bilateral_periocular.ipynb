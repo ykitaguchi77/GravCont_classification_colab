{
  "nbformat": 4,
  "nbformat_minor": 0,
  "metadata": {
    "colab": {
      "name": "Untitled37.ipynb",
      "provenance": [],
      "machine_shape": "hm",
      "include_colab_link": true
    },
    "kernelspec": {
      "name": "python3",
      "display_name": "Python 3"
    },
    "gpuClass": "standard"
  },
  "cells": [
    {
      "cell_type": "markdown",
      "metadata": {
        "id": "view-in-github",
        "colab_type": "text"
      },
      "source": [
        "<a href=\"https://colab.research.google.com/github/ykitaguchi77/GravCont_classification_colab/blob/master/Eye_crop_bilateral_periocular.ipynb\" target=\"_parent\"><img src=\"https://colab.research.google.com/assets/colab-badge.svg\" alt=\"Open In Colab\"/></a>"
      ]
    },
    {
      "cell_type": "markdown",
      "metadata": {
        "id": "C2mKFMmwfTOi"
      },
      "source": [
        "#顔の画像から目を検出して切り抜くスクリプト\n",
        "・Haarcascade_eyeを使用<br>\n",
        "・目が検出できないものはskipする<br>\n",
        "・横幅を1/4倍、縦幅を上下に1/4倍追加して画像を切り取る（目の全幅、眉毛が含まれるように）\n",
        "\n",
        "・切り取った画像を500px*500pxにresizeする<br>\n",
        "・フォルダ内の画像を一括変換して別フォルダに保存"
      ]
    },
    {
      "cell_type": "code",
      "metadata": {
        "id": "I5xvbecME5IS"
      },
      "source": [
        "import numpy as np\n",
        "import matplotlib.pyplot as plt\n",
        "import time\n",
        "import os\n",
        "import shutil\n",
        "import copy\n",
        "import pandas as pd\n",
        "import csv\n",
        "from random import randint\n",
        "from time import sleep\n",
        "import numpy as np\n",
        "import sys\n",
        "\n",
        "\n",
        "import glob\n",
        "import random\n",
        "from PIL import Image\n",
        "%matplotlib inline\n",
        "\n",
        "#サポートパッチのインポート\n",
        "from google.colab.patches import cv2_imshow\n",
        "import cv2\n",
        "\n",
        "plt.ion()   # interactive mode"
      ],
      "execution_count": 61,
      "outputs": []
    },
    {
      "cell_type": "markdown",
      "metadata": {
        "id": "v0ZI4pHmFDXZ"
      },
      "source": [
        "#Google colabをマウント"
      ]
    },
    {
      "cell_type": "code",
      "metadata": {
        "id": "zkrhEditFGkP",
        "colab": {
          "base_uri": "https://localhost:8080/"
        },
        "outputId": "2acf00f1-4f4c-48bf-a9ca-835dbc7be4bc"
      },
      "source": [
        "'''\n",
        "・dlibを用いて目を切り抜く\n",
        "・横幅を2倍、縦幅を上に1倍追加/下に0.5倍追加して画像を切り取る（目の全幅、眉毛が含まれるように）\n",
        "'''\n",
        "\n",
        "from google.colab import drive\n",
        "drive.mount('/content/drive')"
      ],
      "execution_count": 62,
      "outputs": [
        {
          "output_type": "stream",
          "name": "stdout",
          "text": [
            "Drive already mounted at /content/drive; to attempt to forcibly remount, call drive.mount(\"/content/drive\", force_remount=True).\n"
          ]
        }
      ]
    },
    {
      "cell_type": "code",
      "metadata": {
        "id": "mt7fAuwXxNka",
        "colab": {
          "base_uri": "https://localhost:8080/"
        },
        "outputId": "fbce639c-1949-45ef-f6aa-5a1ba098b2ef"
      },
      "source": [
        "#残り時間確認\n",
        "!cat /proc/uptime | awk '{printf(\"残り時間 : %.2f\", 12-$1/60/60)}'\n"
      ],
      "execution_count": null,
      "outputs": [
        {
          "output_type": "stream",
          "name": "stdout",
          "text": [
            "残り時間 : 11.68"
          ]
        }
      ]
    },
    {
      "cell_type": "code",
      "metadata": {
        "id": "oSA2Rm9MFXoZ"
      },
      "source": [
        "#元画像\n",
        "in_path = '/content/drive/MyDrive/Deep_learning/Face_Images/IMG_3110.JPG'\n",
        "\n",
        "#保存先フォルダ\n",
        "out_path = '/content/drive/My Drive/Deep_learning/eyelid_images/IMG_3110_eye.JPG'\n"
      ],
      "execution_count": 16,
      "outputs": []
    },
    {
      "cell_type": "markdown",
      "metadata": {
        "id": "v0shkziUPn1c"
      },
      "source": [
        "#Haarcascadeを指定"
      ]
    },
    {
      "cell_type": "code",
      "metadata": {
        "id": "qfu_RX-kIlmx"
      },
      "source": [
        "# カスケードファイルのパス\n",
        "eye_cascade_path = '/content/drive/My Drive/Deep_learning/haarcascade_eye.xml'\n",
        "\n",
        "# カスケード分類器の特徴量取得\n",
        "eye_cascade = cv2.CascadeClassifier(eye_cascade_path)"
      ],
      "execution_count": 17,
      "outputs": []
    },
    {
      "cell_type": "code",
      "source": [
        "#アスペクト比を維持したまま横を400pixelに縮小する\n",
        "def scale_to_width(img, width):\n",
        "    scale = width / img.shape[1]\n",
        "    return cv2.resize(img, dsize=None, fx=scale, fy=scale)\n",
        "\n",
        "#図を表示する\n",
        "def show_image(img):\n",
        "    #img = cv2.imread(out_path)\n",
        "    dst = scale_to_width(img, 400)\n",
        "    cv2_imshow(dst)\n",
        "\n",
        "def my_round(val, digit=0):\n",
        "    p = 10 ** digit\n",
        "    return int((val * p * 2 + 1) // 2 / p)"
      ],
      "metadata": {
        "id": "SMbQsnPTHf-K"
      },
      "execution_count": 18,
      "outputs": []
    },
    {
      "cell_type": "code",
      "source": [
        "def crop_bilateral(in_path):\n",
        "    img_resized_list,side_list = [],[]\n",
        "\n",
        "    img = cv2.imread(in_path) \n",
        "    img2 = img.copy()\n",
        "\n",
        "    # 画像グレースケール化\n",
        "    grayscale_img = cv2.cvtColor(img, cv2.COLOR_RGB2GRAY)\n",
        "\n",
        "    #300pix以上のもので目に見えるものを抽出\n",
        "    eye_list = eye_cascade.detectMultiScale(grayscale_img, minSize=(300, 300))\n",
        "    print('image path = ',in_path)\n",
        "\n",
        "    # 眼検出判定\n",
        "    if len(eye_list) >= 1:\n",
        "        print('目が' + str(len(eye_list)) +'個検出されました')\n",
        "        pass\n",
        "    else:\n",
        "        print(\"no eye detected\")\n",
        "        sys.exit()\n",
        "\n",
        "    print(eye_list)\n",
        "\n",
        "    #画像の切り抜きと保存（連番にする）\n",
        "\n",
        "    for (ex, ey, ew, eh) in eye_list:\n",
        "        print(\"[ex,ey] = %d,%d [ew,eh] = %d,%d\" %(ex, ey, ew, eh))\n",
        "        \n",
        "        try:\n",
        "          cv2.rectangle(img2, (ex, ey), (ex + ew, ey + eh), (0, 255, 0), 2)\n",
        "\n",
        "          #切り抜き範囲が元画像をはみ出る場合は黒画像で埋める\n",
        "          top = max(0, ey-int(eh/4))\n",
        "          bottom = min(grayscale_img.shape[0], int(ey + eh*5/4))\n",
        "          left = max(0,int(ex-int(ew/4)))\n",
        "          right = min(grayscale_img.shape[1], int(ex + ew*5/4))\n",
        "\n",
        "          #print(f\"top:{top}, bottom:{bottom}, left:{left}, right:{right}\")\n",
        "\n",
        "          img_cropped = img[top: bottom,left:right]\n",
        "          height, width = img_cropped.shape[:2]\n",
        "\n",
        "\n",
        "          #print(f\"height:{height}, width:{width}\")\n",
        "          if width==height:\n",
        "              img_background =img_cropped\n",
        "          elif width>height:\n",
        "              img_background = np.zeros((width,width,3), dtype = np.uint8)\n",
        "              img_background[0:width, my_round((width-height)/2) :int(((width+height)/2)+height)]=img_cropped\n",
        "          elif width<height:\n",
        "              img_background = np.zeros((height,height,3), dtype = np.uint8)\n",
        "              img_background[0:height, my_round((height-width)/2) :int(((height-width)/2)+width)]=img_cropped\n",
        "          \n",
        "          img_resized = cv2.resize(img_background,(500,500)) #1辺500pixにresize \n",
        "\n",
        "          show_image(img_resized)\n",
        "\n",
        "        except:\n",
        "          print('crop error')\n",
        "\n",
        "        if ex <= grayscale_img.shape[1]/2:\n",
        "            side = 0 #600ピクセル目より左にあるのは右眼\n",
        "        else:\n",
        "            side = 1 #600ピクセル目より右にあるのは左眼\n",
        "\n",
        "        img_resized_list.append(img_resized)\n",
        "        side_list.append(side)\n",
        "        \n",
        "    return(img_resized_list, side_list)\n"
      ],
      "metadata": {
        "id": "aR56JrxipDoK"
      },
      "execution_count": 48,
      "outputs": []
    },
    {
      "cell_type": "code",
      "source": [
        "img_resized_list, side_list = crop_bilateral(in_path)"
      ],
      "metadata": {
        "id": "sQkblQvvgl9s"
      },
      "execution_count": null,
      "outputs": []
    },
    {
      "cell_type": "markdown",
      "source": [
        "#**ここからがメイン**"
      ],
      "metadata": {
        "id": "Z8R1kiD9lU-H"
      }
    },
    {
      "cell_type": "code",
      "source": [
        "orig_folder = \"/content/drive/MyDrive/Deep_learning/Olympia_dataset/dataset\" #olympiaのデータセット\n",
        "path_list = glob.glob(orig_folder+\"/*\")\n",
        "path = path_list[0]\n",
        "path\n"
      ],
      "metadata": {
        "colab": {
          "base_uri": "https://localhost:8080/",
          "height": 35
        },
        "id": "8gIkLcQWmH9d",
        "outputId": "9ba6f647-1c74-47dd-9457-d7e765062d93"
      },
      "execution_count": 55,
      "outputs": [
        {
          "output_type": "execute_result",
          "data": {
            "text/plain": [
              "'/content/drive/MyDrive/Deep_learning/Olympia_dataset/dataset/19.JPG'"
            ],
            "application/vnd.google.colaboratory.intrinsic+json": {
              "type": "string"
            }
          },
          "metadata": {},
          "execution_count": 55
        }
      ]
    },
    {
      "cell_type": "code",
      "source": [
        "os.path.basename(path).split(\".\")[0]"
      ],
      "metadata": {
        "colab": {
          "base_uri": "https://localhost:8080/",
          "height": 35
        },
        "id": "suPMzFG9ma28",
        "outputId": "ba6cbc10-11e5-41f2-e090-7cc16d22d76d"
      },
      "execution_count": 58,
      "outputs": [
        {
          "output_type": "execute_result",
          "data": {
            "text/plain": [
              "'19'"
            ],
            "application/vnd.google.colaboratory.intrinsic+json": {
              "type": "string"
            }
          },
          "metadata": {},
          "execution_count": 58
        }
      ]
    },
    {
      "cell_type": "code",
      "source": [
        "orig_folder = \"/content/drive/MyDrive/Deep_learning/Olympia_dataset/dataset\" #olympiaのデータセット\n",
        "dst_folder = \"/content/drive/MyDrive/Deep_learning/Olympia_dataset/dataset_500px_uni_periocular\"\n",
        "\n",
        "\n",
        "#処理時間の計測\n",
        "start = time.time()\n",
        "\n",
        "#もしdst_folderがあれば削除して新しく作り直す\n",
        "if os.path.exists(dst_folder):\n",
        "    shutil.rmtree(dst_folder)\n",
        "os.makedirs(dst_folder)\n",
        "\n",
        "path_list = glob.glob(orig_folder+\"/*\")\n",
        "\n",
        "for path in path_list:\n",
        "    img_resized_list, side_list = crop_bilateral(path) #両眼抜き出し（crop時にエラーが出るものは削除される）\n",
        "    for img, side in zip(img_resized_list, side_list):\n",
        "        if side == 0:\n",
        "            sidestr = \"R\"\n",
        "        elif side == 1:\n",
        "            sidestr = \"L\"\n",
        "        cv2.imwrite(dst_folder + os.path.basename(path).split(\".\")[0]+\"_\"+sidestr+\".JPG\", img)\n",
        "\n",
        "print('Process done!!')\n",
        "elapsed_time = time.time() - start\n",
        "print (\"elapsed_time:{0}\".format(elapsed_time) + \"[sec]\")\n"
      ],
      "metadata": {
        "colab": {
          "base_uri": "https://localhost:8080/",
          "height": 248
        },
        "id": "R8k494hphZs9",
        "outputId": "b9d1c178-bffd-4ddc-e604-c41c5eb06662"
      },
      "execution_count": 60,
      "outputs": [
        {
          "output_type": "error",
          "ename": "NameError",
          "evalue": "ignored",
          "traceback": [
            "\u001b[0;31m---------------------------------------------------------------------------\u001b[0m",
            "\u001b[0;31mNameError\u001b[0m                                 Traceback (most recent call last)",
            "\u001b[0;32m<ipython-input-60-10052feaf306>\u001b[0m in \u001b[0;36m<module>\u001b[0;34m()\u001b[0m\n\u001b[1;32m      8\u001b[0m \u001b[0;31m#もしdst_folderがあれば削除して新しく作り直す\u001b[0m\u001b[0;34m\u001b[0m\u001b[0;34m\u001b[0m\u001b[0;34m\u001b[0m\u001b[0m\n\u001b[1;32m      9\u001b[0m \u001b[0;32mif\u001b[0m \u001b[0mos\u001b[0m\u001b[0;34m.\u001b[0m\u001b[0mpath\u001b[0m\u001b[0;34m.\u001b[0m\u001b[0mexists\u001b[0m\u001b[0;34m(\u001b[0m\u001b[0mdst_folder\u001b[0m\u001b[0;34m)\u001b[0m\u001b[0;34m:\u001b[0m\u001b[0;34m\u001b[0m\u001b[0;34m\u001b[0m\u001b[0m\n\u001b[0;32m---> 10\u001b[0;31m     \u001b[0mshutil\u001b[0m\u001b[0;34m.\u001b[0m\u001b[0mrmtree\u001b[0m\u001b[0;34m(\u001b[0m\u001b[0mdst_folder\u001b[0m\u001b[0;34m)\u001b[0m\u001b[0;34m\u001b[0m\u001b[0;34m\u001b[0m\u001b[0m\n\u001b[0m\u001b[1;32m     11\u001b[0m \u001b[0mos\u001b[0m\u001b[0;34m.\u001b[0m\u001b[0mmakedirs\u001b[0m\u001b[0;34m(\u001b[0m\u001b[0mdst_folder\u001b[0m\u001b[0;34m)\u001b[0m\u001b[0;34m\u001b[0m\u001b[0;34m\u001b[0m\u001b[0m\n\u001b[1;32m     12\u001b[0m \u001b[0;34m\u001b[0m\u001b[0m\n",
            "\u001b[0;31mNameError\u001b[0m: name 'shutil' is not defined"
          ]
        }
      ]
    }
  ]
}