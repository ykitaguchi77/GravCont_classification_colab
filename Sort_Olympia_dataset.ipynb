{
  "nbformat": 4,
  "nbformat_minor": 0,
  "metadata": {
    "colab": {
      "provenance": [],
      "authorship_tag": "ABX9TyPfxHQnDkJdoM5zcEJM+NxS",
      "include_colab_link": true
    },
    "kernelspec": {
      "name": "python3",
      "display_name": "Python 3"
    },
    "language_info": {
      "name": "python"
    }
  },
  "cells": [
    {
      "cell_type": "markdown",
      "metadata": {
        "id": "view-in-github",
        "colab_type": "text"
      },
      "source": [
        "<a href=\"https://colab.research.google.com/github/ykitaguchi77/GravCont_classification_colab/blob/master/Sort_Olympia_dataset.ipynb\" target=\"_parent\"><img src=\"https://colab.research.google.com/assets/colab-badge.svg\" alt=\"Open In Colab\"/></a>"
      ]
    },
    {
      "cell_type": "markdown",
      "source": [
        "#**Sort Oplympia dataset**"
      ],
      "metadata": {
        "id": "sHSffYi18c1F"
      }
    },
    {
      "cell_type": "code",
      "execution_count": 1,
      "metadata": {
        "colab": {
          "base_uri": "https://localhost:8080/"
        },
        "id": "itAl7vpX8YcI",
        "outputId": "70661abb-aba9-4f92-d22b-4c65dbf9f03f"
      },
      "outputs": [
        {
          "output_type": "stream",
          "name": "stdout",
          "text": [
            "Mounted at /content/drive\n"
          ]
        }
      ],
      "source": [
        "#GDriveをマウント\n",
        "from google.colab import drive\n",
        "drive.mount('/content/drive')"
      ]
    },
    {
      "cell_type": "code",
      "source": [
        "parent_path = \"/content/drive/MyDrive/Deep_learning/Olympia_dataset\"\n",
        "\n",
        "%cd $parent_path"
      ],
      "metadata": {
        "colab": {
          "base_uri": "https://localhost:8080/"
        },
        "id": "4D4NtyMJ9BQy",
        "outputId": "6497459a-97c8-4b87-efe4-d3d3a79cc21a"
      },
      "execution_count": null,
      "outputs": [
        {
          "output_type": "stream",
          "name": "stdout",
          "text": [
            "/content/drive/MyDrive/Deep_learning/Olympia_dataset\n"
          ]
        }
      ]
    },
    {
      "cell_type": "code",
      "source": [
        "import glob\n",
        "import os\n",
        "import shutil\n",
        "import cv2\n",
        "\n",
        "\n",
        "treated_id = os.listdir(\"treated_500px\")\n",
        "untreated_id = os.listdir(\"untreated\")"
      ],
      "metadata": {
        "id": "XAvcrScM9GOX"
      },
      "execution_count": null,
      "outputs": []
    },
    {
      "cell_type": "markdown",
      "source": [
        "# **横幅640pixelにresizeして別フォルダに保存**"
      ],
      "metadata": {
        "id": "6-l-WRMUAokc"
      }
    },
    {
      "cell_type": "code",
      "source": [
        "# Create destination directories\n",
        "basename_lists = [treated_id, untreated_id]\n",
        "dst_dirs = [\"treated_640px\", \"untreated_640px\"]\n",
        "for dir in dst_dirs:\n",
        "    if os.path.exists(dir):\n",
        "        shutil.rmtree(dir)\n",
        "    os.makedirs(dir)"
      ],
      "metadata": {
        "id": "Q_5WvQerAoz7"
      },
      "execution_count": null,
      "outputs": []
    },
    {
      "cell_type": "code",
      "source": [
        "def resize_by_width(orig_dir, dst_dir, basename_list, width):\n",
        "    path_list = glob.glob(f\"{orig_dir}/*\")\n",
        "    for path in path_list:\n",
        "        if os.path.basename(path) in basename_list:\n",
        "            # Load the image\n",
        "            img = cv2.imread(path)\n",
        "            # Get the aspect ratio of the original image\n",
        "            aspect_ratio = float(img.shape[0]) / img.shape[1]\n",
        "            # Calculate the new height of the image\n",
        "            new_height = int(640 * aspect_ratio)\n",
        "            # Resize the image to 640xnew_height while maintaining aspect ratio\n",
        "            resized_img = cv2.resize(img, (640, new_height), interpolation = cv2.INTER_LINEAR)\n",
        "            # Save the resized image\n",
        "            cv2.imwrite(f\"{dst_dir}/{os.path.basename(path)}\", resized_img)\n",
        "            print(path)"
      ],
      "metadata": {
        "id": "ukBxF8uX_Wi2"
      },
      "execution_count": null,
      "outputs": []
    },
    {
      "cell_type": "code",
      "source": [
        "for dst_dir, basename_list in zip(dst_dirs, basename_lists):\n",
        "    resize_by_width(\"dataset\", dir, basename_list, width=640)\n",
        "    print(f\"{dst_dir} done!!\")"
      ],
      "metadata": {
        "id": "rqMxtNjQ-aCd"
      },
      "execution_count": null,
      "outputs": []
    },
    {
      "cell_type": "markdown",
      "source": [
        "# **CSVファイルから抽出**"
      ],
      "metadata": {
        "id": "U_aHzq_U9nJl"
      }
    },
    {
      "cell_type": "code",
      "source": [
        "import pandas as pd\n",
        "\n",
        "csv_path = \"/content/drive/MyDrive/Deep_learning/Olympia_dataset/AI_modified_20220809.csv\"\n",
        "df = pd.read_csv(csv_path, encoding=\"cp932\")\n",
        "\n",
        "control_list = df.loc[df[\"分類\"]==\"コントロール\"][\"写真No.\"].tolist()"
      ],
      "metadata": {
        "id": "v52ulR2HD8gA"
      },
      "execution_count": 25,
      "outputs": []
    },
    {
      "cell_type": "code",
      "source": [
        "import glob\n",
        "import os\n",
        "import shutil\n",
        "from tqdm import tqdm\n",
        "import cv2\n",
        "\n",
        "image_dir = \"/content/drive/MyDrive/Deep_learning/Olympia_dataset/dataset\"\n",
        "dst_dir = \"/content/drive/MyDrive/Deep_learning/Olympia_dataset/control_640px\"\n",
        "\n",
        "if os.path.exists(dst_dir):\n",
        "    shutil.rmtree(dst_dir)\n",
        "os.makedirs(dst_dir)\n",
        "\n",
        "#横幅を640pixelに調整\n",
        "def resize_by_width(orig_dir, dst_dir, basename_list, width):\n",
        "    path_list = glob.glob(f\"{orig_dir}/*\")\n",
        "    for path in tqdm(path_list, desc='Resize images'):\n",
        "        if os.path.basename(path) in basename_list:\n",
        "            # Load the image\n",
        "            img = cv2.imread(path)\n",
        "            # Get the aspect ratio of the original image\n",
        "            aspect_ratio = float(img.shape[0]) / img.shape[1]\n",
        "            # Calculate the new height of the image\n",
        "            new_height = int(640 * aspect_ratio)\n",
        "            # Resize the image to 640xnew_height while maintaining aspect ratio\n",
        "            resized_img = cv2.resize(img, (640, new_height), interpolation = cv2.INTER_LINEAR)\n",
        "            # Save the resized image\n",
        "            cv2.imwrite(f\"{dst_dir}/{os.path.basename(path)}\", resized_img)\n",
        "            # Print the path of the processed image\n",
        "            #print(path)\n",
        "\n",
        "\n",
        "for image in tqdm(glob.glob(f\"{image_dir}/*\"), desc='Extract and copy images'):\n",
        "    if int(os.path.basename(image).split(\".\")[0]) in control_list:\n",
        "        shutil.copy(image, dst_dir)\n",
        "\n",
        "# Call the resize function with the destination directory and its contents\n",
        "resize_by_width(dst_dir, dst_dir, os.listdir(dst_dir), 640)\n"
      ],
      "metadata": {
        "id": "214LNg4NTJDD",
        "outputId": "98d86201-03c8-4804-99a1-cf84950d688a",
        "colab": {
          "base_uri": "https://localhost:8080/"
        }
      },
      "execution_count": 29,
      "outputs": [
        {
          "output_type": "stream",
          "name": "stderr",
          "text": [
            "Extract and copy images: 100%|██████████| 1016/1016 [00:04<00:00, 218.51it/s]\n",
            "Resizing images: 100%|██████████| 169/169 [00:19<00:00,  8.72it/s]\n"
          ]
        }
      ]
    }
  ]
}