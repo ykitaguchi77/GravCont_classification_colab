{
  "nbformat": 4,
  "nbformat_minor": 0,
  "metadata": {
    "colab": {
      "name": "Untitled64.ipynb",
      "provenance": [],
      "include_colab_link": true
    },
    "kernelspec": {
      "name": "python3",
      "display_name": "Python 3"
    }
  },
  "cells": [
    {
      "cell_type": "markdown",
      "metadata": {
        "id": "view-in-github",
        "colab_type": "text"
      },
      "source": [
        "<a href=\"https://colab.research.google.com/github/ykitaguchi77/GravCont_classification_colab/blob/master/%E3%80%90%E8%A9%95%E4%BE%A1%E7%94%A8%E3%80%91TrainingSet%E3%81%AE%E3%83%AA%E3%82%B9%E3%83%88CSV%E3%81%A8%E7%95%AA%E5%8F%B7%E4%BB%98%E3%81%8D%E7%94%BB%E5%83%8F%E3%82%92%E4%BD%9C%E6%88%90_colab.ipynb\" target=\"_parent\"><img src=\"https://colab.research.google.com/assets/colab-badge.svg\" alt=\"Open In Colab\"/></a>"
      ]
    },
    {
      "cell_type": "markdown",
      "metadata": {
        "id": "NlLpkWVcVFsQ"
      },
      "source": [
        "#**【評価用】TrainingSetのリストCSVを作成**\n"
      ]
    },
    {
      "cell_type": "code",
      "metadata": {
        "id": "bH8TbMaxu669",
        "outputId": "4f1f8511-d90b-405c-9667-1810b364d6e0",
        "colab": {
          "base_uri": "https://localhost:8080/"
        }
      },
      "source": [
        "\"\"\"\n",
        "folder-------grav 1000 images\n",
        "       |-----cont 1000 images\n",
        "\n",
        " ↓ ランダムにピックアップ\n",
        "\n",
        "test_folder----pre---treated (=grav) 50 images\n",
        "            |      |-untreated (=cont) 50 images\n",
        "            |--post--treated (=grav) 50 images\n",
        "                   |-untreated (=cont) 50 images\n",
        "※pre:指導前、post:指導後\n",
        "→CSVでリストを作成（それぞれ画像0-99、pre&postで対応表作成）\n",
        "\"\"\"\n",
        "\n",
        "from google.colab import drive\n",
        "drive.mount('/content/drive')"
      ],
      "execution_count": 1,
      "outputs": [
        {
          "output_type": "stream",
          "name": "stdout",
          "text": [
            "Mounted at /content/drive\n"
          ]
        }
      ]
    },
    {
      "cell_type": "code",
      "metadata": {
        "id": "RDGnBBd4FvT-"
      },
      "source": [
        "import os\n",
        "import pandas as pd\n",
        "import glob\n",
        "import random\n",
        "import shutil\n",
        "import pandas as pd\n",
        "random.seed(314)\n",
        "\n",
        "grav_dir = \"/content/drive/MyDrive/Deep_learning/Olympia_dataset/treated_640px\"  #test画像(classごとにフォルダ分けあり)のパス\n",
        "cont_dir = \"/content/drive/MyDrive/Deep_learning/Olympia_dataset/untreated_640px\"  #test画像(classごとにフォルダ分けあり)のパス\n",
        "csv_dir = \"/content/drive/MyDrive/Deep_learning/Olympia_dataset/grav_bootcamp\"   #画像のリストをCSVに書き出した保存先\n",
        "img_save_dir = \"/content/drive/MyDrive/Deep_learning/Olympia_dataset/grav_bootcamp/images\"   #通し番号を記入した画像を保存するパス\n",
        "pdf_save_dir = \"/content/drive/MyDrive/Deep_learning/Olympia_dataset/grav_bootcamp\"   #画像を番号順にpdf化したものを保存するパス\n",
        "zip_save_dir = \"/content/drive/MyDrive/Deep_learning/Olympia_dataset/grav_bootcamp\"   #評価画像と回答用csvの組み合わせを圧縮して保存\n",
        "reply_dir = \"/content/drive/MyDrive/Deep_learning/Olympia_dataset/grav_bootcamp/reply\"   #返信のcsvを保存するフォルダ\n",
        "\n",
        "\n",
        "for dir in [csv_dir, img_save_dir, pdf_save_dir, zip_save_dir, reply_dir]:\n",
        "    if os.path.exists(dir) == False:\n",
        "        os.makedirs(dir)\n",
        "\n",
        "for phase in [0,1,2]:\n",
        "    os.makedirs(f\"{img_save_dir}/phase_{phase}\", exist_ok=True)\n"
      ],
      "execution_count": 11,
      "outputs": []
    },
    {
      "cell_type": "code",
      "source": [
        "shutil.rmtree(\"/content/drive/MyDrive/Deep_learning/Olympia_dataset/grav_bootcamp/images\")"
      ],
      "metadata": {
        "id": "hTpG3eQVf0t4"
      },
      "execution_count": 10,
      "outputs": []
    },
    {
      "cell_type": "markdown",
      "metadata": {
        "id": "EkWtG3YvwG6F"
      },
      "source": [
        "#**新たに評価用CSVを作成**"
      ]
    },
    {
      "cell_type": "code",
      "source": [
        "def split_list(lst):\n",
        "    random.shuffle(lst)\n",
        "    return lst[:len(lst)//3], lst[len(lst)//3:2*len(lst)//3], lst[2*len(lst)//3:]\n",
        "\n",
        "grav = random.sample(glob.glob(f\"{grav_dir}/*\"), 99)    \n",
        "grav_0, grav_1, grav_2 = split_list(grav)\n",
        "\n",
        "cont = random.sample(glob.glob(f\"{cont_dir}/*\"), 99)    \n",
        "cont_0, cont_1, cont_2 = split_list(cont)\n",
        "\n",
        "\n",
        "phase_0 = grav_0 + cont_0\n",
        "phase_1 = grav_1 + cont_1\n",
        "phase_2 = grav_2 + cont_2\n",
        "random.shuffle(phase_0)\n",
        "random.shuffle(phase_1)\n",
        "random.shuffle(phase_2)"
      ],
      "metadata": {
        "id": "U-qOFwyQbtxP"
      },
      "execution_count": 12,
      "outputs": []
    },
    {
      "cell_type": "code",
      "source": [
        "def list_for_df(path_list, phase):\n",
        "    idxs, labels = [],[]\n",
        "    for idx, path in enumerate(path_list):\n",
        "        idxs.append(f\"phase{phase}_{str(idx).zfill(2)}\")\n",
        "        if os.path.basename(os.path.dirname(path)).split(\"_\")[0] == \"treated\":\n",
        "              labels.append(1) # grav \n",
        "        elif os.path.basename(os.path.dirname(path)).split(\"_\")[0] == \"untreated\":\n",
        "              labels.append(0) # cont\n",
        "    return path_list, idxs, labels\n",
        "\n",
        "paths_0, idxs_0, labels_0 = list_for_df(phase_0, 0)\n",
        "paths_1, idxs_1, labels_1 = list_for_df(phase_1, 1)\n",
        "paths_2, idxs_2, labels_2 = list_for_df(phase_2, 2)\n",
        "idxs = idxs_0 + idxs_1 + idxs_2\n",
        "labels = labels_0 + labels_1 + labels_2\n",
        "paths = paths_0 + paths_1 + paths_2\n",
        "\n",
        "print(len(idxs), len(labels), len(paths))\n",
        "\n"
      ],
      "metadata": {
        "colab": {
          "base_uri": "https://localhost:8080/"
        },
        "id": "afZVG2pkC4G4",
        "outputId": "c4cd3ea3-5003-42d0-83d5-349ac21f7b64"
      },
      "execution_count": 13,
      "outputs": [
        {
          "output_type": "stream",
          "name": "stdout",
          "text": [
            "198 198 198\n"
          ]
        }
      ]
    },
    {
      "cell_type": "code",
      "source": [
        "columns = [\"idx\", \"label\", \"path\"]\n",
        "participants = [\"ishihara\", \"ohagi\", \"kinoshita\", \"takamine\", \"hayashi\", \"fukuyama\", \"makino\", \"motomura\", \"iwasaki\", \"komatsu\", \"koizumi\"] \n",
        "columns.extend(participants)\n",
        "\n",
        "df = pd.DataFrame(index=[], columns=columns)\n",
        "df[\"idx\"] = idxs\n",
        "df[\"label\"] = labels\n",
        "df[\"path\"] = paths"
      ],
      "metadata": {
        "id": "jeEwKXyDIVIX"
      },
      "execution_count": 14,
      "outputs": []
    },
    {
      "cell_type": "code",
      "source": [
        "#DataFrameをセーブ\n",
        "df.to_csv(f\"{csv_dir}/hum_pred.csv\")"
      ],
      "metadata": {
        "id": "GUb2M2arIlFk"
      },
      "execution_count": 15,
      "outputs": []
    },
    {
      "cell_type": "code",
      "source": [
        "#選択した画像をフォルダに移動\n",
        "for i, (idx, path) in enumerate(zip(df[\"idx\"],df[\"path\"])):\n",
        "    print(idx,path)\n",
        "    shutil.copy(path, f\"{img_save_dir}/phase_{idx[5]}/{idx}.jpg\") #idx[5]-->左から5文字目\n"
      ],
      "metadata": {
        "id": "DLddpJKLXIyV"
      },
      "execution_count": null,
      "outputs": []
    },
    {
      "cell_type": "code",
      "source": [
        "import zipfile\n",
        "import os\n",
        "\n",
        "def zip_directory(directory_path, zip_file_path, password):\n",
        "    with zipfile.ZipFile(zip_file_path, 'w') as zip_file:\n",
        "        for root, dirs, files in os.walk(directory_path):\n",
        "            for file in files:\n",
        "                file_path = os.path.join(root, file)\n",
        "                zip_file.write(file_path, os.path.relpath(file_path, directory_path), compress_type=zipfile.ZIP_DEFLATED)\n",
        "    zip_file.setpassword(password.encode('utf-8'))\n",
        "\n",
        "%cd /content/drive/MyDrive/Deep_learning/Olympia_dataset/grav_bootcamp/images\n",
        "for dir in os.listdir():\n",
        "    zip_directory(dir, f\"{dir}.zip\", 'bootcamp')"
      ],
      "metadata": {
        "colab": {
          "base_uri": "https://localhost:8080/"
        },
        "id": "muEDh50tf0jI",
        "outputId": "5e237469-ac7b-4233-baa8-3b8e63d3555a"
      },
      "execution_count": 17,
      "outputs": [
        {
          "output_type": "stream",
          "name": "stdout",
          "text": [
            "/content/drive/MyDrive/Deep_learning/Olympia_dataset/grav_bootcamp/images\n"
          ]
        }
      ]
    },
    {
      "cell_type": "code",
      "source": [
        "df"
      ],
      "metadata": {
        "colab": {
          "base_uri": "https://localhost:8080/",
          "height": 488
        },
        "id": "tRpqgj_OxfIe",
        "outputId": "0089e9a7-32b7-4ae3-f663-b1ed6f929087"
      },
      "execution_count": null,
      "outputs": [
        {
          "output_type": "execute_result",
          "data": {
            "text/plain": [
              "           idx  label                                               path  \\\n",
              "0    phase0_00      0  /content/drive/MyDrive/Deep_learning/Olympia_d...   \n",
              "1    phase0_01      0  /content/drive/MyDrive/Deep_learning/Olympia_d...   \n",
              "2    phase0_02      1  /content/drive/MyDrive/Deep_learning/Olympia_d...   \n",
              "3    phase0_03      0  /content/drive/MyDrive/Deep_learning/Olympia_d...   \n",
              "4    phase0_04      0  /content/drive/MyDrive/Deep_learning/Olympia_d...   \n",
              "..         ...    ...                                                ...   \n",
              "193  phase2_61      1  /content/drive/MyDrive/Deep_learning/Olympia_d...   \n",
              "194  phase2_62      0  /content/drive/MyDrive/Deep_learning/Olympia_d...   \n",
              "195  phase2_63      1  /content/drive/MyDrive/Deep_learning/Olympia_d...   \n",
              "196  phase2_64      1  /content/drive/MyDrive/Deep_learning/Olympia_d...   \n",
              "197  phase2_65      0  /content/drive/MyDrive/Deep_learning/Olympia_d...   \n",
              "\n",
              "    ishihara ohagi kinoshita takamine hayashi fukuyama makino motomura  \\\n",
              "0        NaN   NaN       NaN      NaN     NaN      NaN    NaN      NaN   \n",
              "1        NaN   NaN       NaN      NaN     NaN      NaN    NaN      NaN   \n",
              "2        NaN   NaN       NaN      NaN     NaN      NaN    NaN      NaN   \n",
              "3        NaN   NaN       NaN      NaN     NaN      NaN    NaN      NaN   \n",
              "4        NaN   NaN       NaN      NaN     NaN      NaN    NaN      NaN   \n",
              "..       ...   ...       ...      ...     ...      ...    ...      ...   \n",
              "193      NaN   NaN       NaN      NaN     NaN      NaN    NaN      NaN   \n",
              "194      NaN   NaN       NaN      NaN     NaN      NaN    NaN      NaN   \n",
              "195      NaN   NaN       NaN      NaN     NaN      NaN    NaN      NaN   \n",
              "196      NaN   NaN       NaN      NaN     NaN      NaN    NaN      NaN   \n",
              "197      NaN   NaN       NaN      NaN     NaN      NaN    NaN      NaN   \n",
              "\n",
              "    iwasaki komatsu koizumi  \n",
              "0       NaN     NaN     NaN  \n",
              "1       NaN     NaN     NaN  \n",
              "2       NaN     NaN     NaN  \n",
              "3       NaN     NaN     NaN  \n",
              "4       NaN     NaN     NaN  \n",
              "..      ...     ...     ...  \n",
              "193     NaN     NaN     NaN  \n",
              "194     NaN     NaN     NaN  \n",
              "195     NaN     NaN     NaN  \n",
              "196     NaN     NaN     NaN  \n",
              "197     NaN     NaN     NaN  \n",
              "\n",
              "[198 rows x 14 columns]"
            ],
            "text/html": [
              "\n",
              "  <div id=\"df-9a53383e-a7e4-490b-996c-786ca14420a7\">\n",
              "    <div class=\"colab-df-container\">\n",
              "      <div>\n",
              "<style scoped>\n",
              "    .dataframe tbody tr th:only-of-type {\n",
              "        vertical-align: middle;\n",
              "    }\n",
              "\n",
              "    .dataframe tbody tr th {\n",
              "        vertical-align: top;\n",
              "    }\n",
              "\n",
              "    .dataframe thead th {\n",
              "        text-align: right;\n",
              "    }\n",
              "</style>\n",
              "<table border=\"1\" class=\"dataframe\">\n",
              "  <thead>\n",
              "    <tr style=\"text-align: right;\">\n",
              "      <th></th>\n",
              "      <th>idx</th>\n",
              "      <th>label</th>\n",
              "      <th>path</th>\n",
              "      <th>ishihara</th>\n",
              "      <th>ohagi</th>\n",
              "      <th>kinoshita</th>\n",
              "      <th>takamine</th>\n",
              "      <th>hayashi</th>\n",
              "      <th>fukuyama</th>\n",
              "      <th>makino</th>\n",
              "      <th>motomura</th>\n",
              "      <th>iwasaki</th>\n",
              "      <th>komatsu</th>\n",
              "      <th>koizumi</th>\n",
              "    </tr>\n",
              "  </thead>\n",
              "  <tbody>\n",
              "    <tr>\n",
              "      <th>0</th>\n",
              "      <td>phase0_00</td>\n",
              "      <td>0</td>\n",
              "      <td>/content/drive/MyDrive/Deep_learning/Olympia_d...</td>\n",
              "      <td>NaN</td>\n",
              "      <td>NaN</td>\n",
              "      <td>NaN</td>\n",
              "      <td>NaN</td>\n",
              "      <td>NaN</td>\n",
              "      <td>NaN</td>\n",
              "      <td>NaN</td>\n",
              "      <td>NaN</td>\n",
              "      <td>NaN</td>\n",
              "      <td>NaN</td>\n",
              "      <td>NaN</td>\n",
              "    </tr>\n",
              "    <tr>\n",
              "      <th>1</th>\n",
              "      <td>phase0_01</td>\n",
              "      <td>0</td>\n",
              "      <td>/content/drive/MyDrive/Deep_learning/Olympia_d...</td>\n",
              "      <td>NaN</td>\n",
              "      <td>NaN</td>\n",
              "      <td>NaN</td>\n",
              "      <td>NaN</td>\n",
              "      <td>NaN</td>\n",
              "      <td>NaN</td>\n",
              "      <td>NaN</td>\n",
              "      <td>NaN</td>\n",
              "      <td>NaN</td>\n",
              "      <td>NaN</td>\n",
              "      <td>NaN</td>\n",
              "    </tr>\n",
              "    <tr>\n",
              "      <th>2</th>\n",
              "      <td>phase0_02</td>\n",
              "      <td>1</td>\n",
              "      <td>/content/drive/MyDrive/Deep_learning/Olympia_d...</td>\n",
              "      <td>NaN</td>\n",
              "      <td>NaN</td>\n",
              "      <td>NaN</td>\n",
              "      <td>NaN</td>\n",
              "      <td>NaN</td>\n",
              "      <td>NaN</td>\n",
              "      <td>NaN</td>\n",
              "      <td>NaN</td>\n",
              "      <td>NaN</td>\n",
              "      <td>NaN</td>\n",
              "      <td>NaN</td>\n",
              "    </tr>\n",
              "    <tr>\n",
              "      <th>3</th>\n",
              "      <td>phase0_03</td>\n",
              "      <td>0</td>\n",
              "      <td>/content/drive/MyDrive/Deep_learning/Olympia_d...</td>\n",
              "      <td>NaN</td>\n",
              "      <td>NaN</td>\n",
              "      <td>NaN</td>\n",
              "      <td>NaN</td>\n",
              "      <td>NaN</td>\n",
              "      <td>NaN</td>\n",
              "      <td>NaN</td>\n",
              "      <td>NaN</td>\n",
              "      <td>NaN</td>\n",
              "      <td>NaN</td>\n",
              "      <td>NaN</td>\n",
              "    </tr>\n",
              "    <tr>\n",
              "      <th>4</th>\n",
              "      <td>phase0_04</td>\n",
              "      <td>0</td>\n",
              "      <td>/content/drive/MyDrive/Deep_learning/Olympia_d...</td>\n",
              "      <td>NaN</td>\n",
              "      <td>NaN</td>\n",
              "      <td>NaN</td>\n",
              "      <td>NaN</td>\n",
              "      <td>NaN</td>\n",
              "      <td>NaN</td>\n",
              "      <td>NaN</td>\n",
              "      <td>NaN</td>\n",
              "      <td>NaN</td>\n",
              "      <td>NaN</td>\n",
              "      <td>NaN</td>\n",
              "    </tr>\n",
              "    <tr>\n",
              "      <th>...</th>\n",
              "      <td>...</td>\n",
              "      <td>...</td>\n",
              "      <td>...</td>\n",
              "      <td>...</td>\n",
              "      <td>...</td>\n",
              "      <td>...</td>\n",
              "      <td>...</td>\n",
              "      <td>...</td>\n",
              "      <td>...</td>\n",
              "      <td>...</td>\n",
              "      <td>...</td>\n",
              "      <td>...</td>\n",
              "      <td>...</td>\n",
              "      <td>...</td>\n",
              "    </tr>\n",
              "    <tr>\n",
              "      <th>193</th>\n",
              "      <td>phase2_61</td>\n",
              "      <td>1</td>\n",
              "      <td>/content/drive/MyDrive/Deep_learning/Olympia_d...</td>\n",
              "      <td>NaN</td>\n",
              "      <td>NaN</td>\n",
              "      <td>NaN</td>\n",
              "      <td>NaN</td>\n",
              "      <td>NaN</td>\n",
              "      <td>NaN</td>\n",
              "      <td>NaN</td>\n",
              "      <td>NaN</td>\n",
              "      <td>NaN</td>\n",
              "      <td>NaN</td>\n",
              "      <td>NaN</td>\n",
              "    </tr>\n",
              "    <tr>\n",
              "      <th>194</th>\n",
              "      <td>phase2_62</td>\n",
              "      <td>0</td>\n",
              "      <td>/content/drive/MyDrive/Deep_learning/Olympia_d...</td>\n",
              "      <td>NaN</td>\n",
              "      <td>NaN</td>\n",
              "      <td>NaN</td>\n",
              "      <td>NaN</td>\n",
              "      <td>NaN</td>\n",
              "      <td>NaN</td>\n",
              "      <td>NaN</td>\n",
              "      <td>NaN</td>\n",
              "      <td>NaN</td>\n",
              "      <td>NaN</td>\n",
              "      <td>NaN</td>\n",
              "    </tr>\n",
              "    <tr>\n",
              "      <th>195</th>\n",
              "      <td>phase2_63</td>\n",
              "      <td>1</td>\n",
              "      <td>/content/drive/MyDrive/Deep_learning/Olympia_d...</td>\n",
              "      <td>NaN</td>\n",
              "      <td>NaN</td>\n",
              "      <td>NaN</td>\n",
              "      <td>NaN</td>\n",
              "      <td>NaN</td>\n",
              "      <td>NaN</td>\n",
              "      <td>NaN</td>\n",
              "      <td>NaN</td>\n",
              "      <td>NaN</td>\n",
              "      <td>NaN</td>\n",
              "      <td>NaN</td>\n",
              "    </tr>\n",
              "    <tr>\n",
              "      <th>196</th>\n",
              "      <td>phase2_64</td>\n",
              "      <td>1</td>\n",
              "      <td>/content/drive/MyDrive/Deep_learning/Olympia_d...</td>\n",
              "      <td>NaN</td>\n",
              "      <td>NaN</td>\n",
              "      <td>NaN</td>\n",
              "      <td>NaN</td>\n",
              "      <td>NaN</td>\n",
              "      <td>NaN</td>\n",
              "      <td>NaN</td>\n",
              "      <td>NaN</td>\n",
              "      <td>NaN</td>\n",
              "      <td>NaN</td>\n",
              "      <td>NaN</td>\n",
              "    </tr>\n",
              "    <tr>\n",
              "      <th>197</th>\n",
              "      <td>phase2_65</td>\n",
              "      <td>0</td>\n",
              "      <td>/content/drive/MyDrive/Deep_learning/Olympia_d...</td>\n",
              "      <td>NaN</td>\n",
              "      <td>NaN</td>\n",
              "      <td>NaN</td>\n",
              "      <td>NaN</td>\n",
              "      <td>NaN</td>\n",
              "      <td>NaN</td>\n",
              "      <td>NaN</td>\n",
              "      <td>NaN</td>\n",
              "      <td>NaN</td>\n",
              "      <td>NaN</td>\n",
              "      <td>NaN</td>\n",
              "    </tr>\n",
              "  </tbody>\n",
              "</table>\n",
              "<p>198 rows × 14 columns</p>\n",
              "</div>\n",
              "      <button class=\"colab-df-convert\" onclick=\"convertToInteractive('df-9a53383e-a7e4-490b-996c-786ca14420a7')\"\n",
              "              title=\"Convert this dataframe to an interactive table.\"\n",
              "              style=\"display:none;\">\n",
              "        \n",
              "  <svg xmlns=\"http://www.w3.org/2000/svg\" height=\"24px\"viewBox=\"0 0 24 24\"\n",
              "       width=\"24px\">\n",
              "    <path d=\"M0 0h24v24H0V0z\" fill=\"none\"/>\n",
              "    <path d=\"M18.56 5.44l.94 2.06.94-2.06 2.06-.94-2.06-.94-.94-2.06-.94 2.06-2.06.94zm-11 1L8.5 8.5l.94-2.06 2.06-.94-2.06-.94L8.5 2.5l-.94 2.06-2.06.94zm10 10l.94 2.06.94-2.06 2.06-.94-2.06-.94-.94-2.06-.94 2.06-2.06.94z\"/><path d=\"M17.41 7.96l-1.37-1.37c-.4-.4-.92-.59-1.43-.59-.52 0-1.04.2-1.43.59L10.3 9.45l-7.72 7.72c-.78.78-.78 2.05 0 2.83L4 21.41c.39.39.9.59 1.41.59.51 0 1.02-.2 1.41-.59l7.78-7.78 2.81-2.81c.8-.78.8-2.07 0-2.86zM5.41 20L4 18.59l7.72-7.72 1.47 1.35L5.41 20z\"/>\n",
              "  </svg>\n",
              "      </button>\n",
              "      \n",
              "  <style>\n",
              "    .colab-df-container {\n",
              "      display:flex;\n",
              "      flex-wrap:wrap;\n",
              "      gap: 12px;\n",
              "    }\n",
              "\n",
              "    .colab-df-convert {\n",
              "      background-color: #E8F0FE;\n",
              "      border: none;\n",
              "      border-radius: 50%;\n",
              "      cursor: pointer;\n",
              "      display: none;\n",
              "      fill: #1967D2;\n",
              "      height: 32px;\n",
              "      padding: 0 0 0 0;\n",
              "      width: 32px;\n",
              "    }\n",
              "\n",
              "    .colab-df-convert:hover {\n",
              "      background-color: #E2EBFA;\n",
              "      box-shadow: 0px 1px 2px rgba(60, 64, 67, 0.3), 0px 1px 3px 1px rgba(60, 64, 67, 0.15);\n",
              "      fill: #174EA6;\n",
              "    }\n",
              "\n",
              "    [theme=dark] .colab-df-convert {\n",
              "      background-color: #3B4455;\n",
              "      fill: #D2E3FC;\n",
              "    }\n",
              "\n",
              "    [theme=dark] .colab-df-convert:hover {\n",
              "      background-color: #434B5C;\n",
              "      box-shadow: 0px 1px 3px 1px rgba(0, 0, 0, 0.15);\n",
              "      filter: drop-shadow(0px 1px 2px rgba(0, 0, 0, 0.3));\n",
              "      fill: #FFFFFF;\n",
              "    }\n",
              "  </style>\n",
              "\n",
              "      <script>\n",
              "        const buttonEl =\n",
              "          document.querySelector('#df-9a53383e-a7e4-490b-996c-786ca14420a7 button.colab-df-convert');\n",
              "        buttonEl.style.display =\n",
              "          google.colab.kernel.accessAllowed ? 'block' : 'none';\n",
              "\n",
              "        async function convertToInteractive(key) {\n",
              "          const element = document.querySelector('#df-9a53383e-a7e4-490b-996c-786ca14420a7');\n",
              "          const dataTable =\n",
              "            await google.colab.kernel.invokeFunction('convertToInteractive',\n",
              "                                                     [key], {});\n",
              "          if (!dataTable) return;\n",
              "\n",
              "          const docLinkHtml = 'Like what you see? Visit the ' +\n",
              "            '<a target=\"_blank\" href=https://colab.research.google.com/notebooks/data_table.ipynb>data table notebook</a>'\n",
              "            + ' to learn more about interactive tables.';\n",
              "          element.innerHTML = '';\n",
              "          dataTable['output_type'] = 'display_data';\n",
              "          await google.colab.output.renderOutput(dataTable, element);\n",
              "          const docLink = document.createElement('div');\n",
              "          docLink.innerHTML = docLinkHtml;\n",
              "          element.appendChild(docLink);\n",
              "        }\n",
              "      </script>\n",
              "    </div>\n",
              "  </div>\n",
              "  "
            ]
          },
          "metadata": {},
          "execution_count": 28
        }
      ]
    },
    {
      "cell_type": "code",
      "source": [],
      "metadata": {
        "id": "X8Fjm6y7C23g"
      },
      "execution_count": null,
      "outputs": []
    },
    {
      "cell_type": "markdown",
      "metadata": {
        "id": "hzV9RFdTT4Uu"
      },
      "source": [
        "#**評価用画像を作成**\n",
        "通し番号を合成して新しいフォルダに保存"
      ]
    },
    {
      "cell_type": "code",
      "metadata": {
        "id": "Qdyrf_0KUCr0"
      },
      "source": [
        "import cv2\n",
        "from google.colab.patches import cv2_imshow\n",
        "import shutil\n",
        "\n",
        "# save_path = img_save_dir\n",
        "\n",
        "# #save_pathがあれば削除して新しく作り直す\n",
        "# try:\n",
        "#     shutil.rmtree(save_path)\n",
        "#     os.makedirs(save_path)\n",
        "# except FileNotFoundError:\n",
        "#     os.makedirs(save_path)\n",
        "#     pass\n",
        "\n",
        "# #CSVに対応する画像のパスを取得\n",
        "\n",
        "# img_path_list = []\n",
        "# for i in range(len(df3)):\n",
        "#     img_name = df3.iloc[i,0]\n",
        "#     img_class = df3.iloc[i,1]\n",
        "#     img_path_list.append(test_dir + \"/\" +img_class+ \"/\" + img_name)\n",
        "\n",
        "# print(img_path_list)\n",
        "\n",
        "def write_text(image_path, text, save_path):\n",
        "    img = cv2.imread(image_path)\n",
        "    # 文字を加える                                                                                      \n",
        "    cv2.putText(img, text, (20, 60),\n",
        "               cv2.FONT_ITALIC, 1.5,\n",
        "               (255,255,255), 4, cv2.LINE_AA)\n",
        "    #cv2.imwrite(save_path +\"/\" +os.path.basename(image_path), img)\n",
        "    cv2.imwrite(save_path, img)\n",
        "    return(img)\n",
        "\n",
        "for phase in [0,1,2]:\n",
        "    dir = f\"/content/drive/MyDrive/Deep_learning/Olympia_dataset/grav_bootcamp/images/phase_{phase}\"\n",
        "    for idx, path in enumerate(glob.glob(f\"{dir}/*\")):\n",
        "        im = write_text(path, str(os.path.basename(path).split(\".\")[0]), path)\n",
        "        cv2_imshow(im)\n",
        "\n"
      ],
      "execution_count": null,
      "outputs": []
    },
    {
      "cell_type": "markdown",
      "metadata": {
        "id": "LOU8x8BbaLB-"
      },
      "source": [
        "#**画像を連結して印刷用のPDFファイルにする**"
      ]
    },
    {
      "cell_type": "code",
      "metadata": {
        "id": "lbtXipkHem1S"
      },
      "source": [
        "!pip install img2pdf --q\n",
        "import os\n",
        "import img2pdf\n",
        "from PIL import Image # img2pdfと一緒にインストールされたPillowを使います\n",
        "\n",
        "for phase in [0,1,2]:\n",
        "    pdfFileName = f\"phase_{phase}.pdf\"\n",
        "    path = f\"{img_save_dir}/phase_{phase}/*\"\n",
        "    ext = \".jpg\"\n",
        " \n",
        "    with open(pdfFileName, \"wb\") as files:\n",
        "      files.write(img2pdf.convert([i for i in glob.glob(path) if i.endswith(ext)]))\n"
      ],
      "execution_count": 25,
      "outputs": []
    },
    {
      "cell_type": "code",
      "source": [
        "##PDFにパスワードをかける\n",
        "\n",
        "#input\n",
        "!pip install PyPDF4\n",
        "from PyPDF4 import PdfFileReader\n",
        "from PyPDF4 import PdfFileWriter\n",
        "\n",
        "for phase in [0,1,2]:\n",
        "    # パスワード設定用PDF\n",
        "    pdf = f\"phase_{phase}.pdf\"\n",
        "\n",
        "    # パスワード設定用PDFをバイナリモードで開く\n",
        "    pdf_open = open(pdf,\"rb\")\n",
        "\n",
        "    # PdfFileReaderオブジェクト生成\n",
        "    pdf_reader = PdfFileReader(pdf_open)\n",
        "\n",
        "    # PdfFileWriterオブジェクト\n",
        "    pdf_writer = PdfFileWriter()\n",
        "\n",
        "    # PDFのページ数取得\n",
        "    num = pdf_reader.numPages\n",
        "\n",
        "    # PDFページコピー\n",
        "    for cp in range(num):\n",
        "        page = pdf_reader.getPage(cp)\n",
        "        pdf_writer.addPage(page)\n",
        "\n",
        "    # パスワードの指定\n",
        "    password = \"6903\"\n",
        "    pdf_writer.encrypt(password)\n",
        "\n",
        "    # 暗号化情報を書き込み\n",
        "    with open(pdf.replace('.pdf','') + r'_encrypt.pdf','wb') as f:\n",
        "        pdf_writer.write(f)"
      ],
      "metadata": {
        "id": "DaLOOJoX90zy"
      },
      "execution_count": null,
      "outputs": []
    },
    {
      "cell_type": "markdown",
      "metadata": {
        "id": "omoaMEhSzeH2"
      },
      "source": [
        "#**評価用CSVと画像pdfをまとめてzip化する**"
      ]
    },
    {
      "cell_type": "code",
      "metadata": {
        "id": "Eu3GdFkGxauk"
      },
      "source": [
        "import zipfile\n",
        "\n",
        "with zipfile.ZipFile('evaluation.zip', 'w', compression=zipfile.ZIP_DEFLATED) as new_zip:\n",
        "    new_zip.write('hum_eval.csv', arcname='hum_eval.csv')\n",
        "    new_zip.write('images.pdf', arcname='750px_images.pdf')"
      ],
      "execution_count": null,
      "outputs": []
    },
    {
      "cell_type": "code",
      "metadata": {
        "id": "fZbiB2zv8Ote"
      },
      "source": [
        "with zipfile.ZipFile(zip_save_dir+\"/evaluation.zip\", 'w', compression=zipfile.ZIP_DEFLATED) as new_zip:\n",
        "    new_zip.write('hum_eval.csv', arcname='hum_eval.csv')\n",
        "    new_zip.write('images.pdf', arcname='750px_images.pdf')"
      ],
      "execution_count": null,
      "outputs": []
    }
  ]
}